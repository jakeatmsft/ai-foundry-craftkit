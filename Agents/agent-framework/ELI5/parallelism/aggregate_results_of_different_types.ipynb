{
 "cells": [
  {
   "cell_type": "markdown",
   "metadata": {},
   "source": [
    "# aggregate_results_of_different_types.py - ELI5 Walkthrough\n",
    "This notebook recreates `python/samples/getting_started/workflows/parallelism/aggregate_results_of_different_types.py` so you can follow the fan-out/fan-in pattern step by step.\n"
   ]
  },
  {
   "cell_type": "markdown",
   "metadata": {},
   "source": [
    "## Big Picture\n",
    "A dispatcher fans out a list of numbers to two workers (Average and Sum). Their outputs are fanned back in by an Aggregator that collects multiple result types in a single list.\n"
   ]
  },
  {
   "cell_type": "markdown",
   "metadata": {},
   "source": [
    "## Key Ingredients\n",
    "- `WorkflowBuilder.add_fan_out_edges` and `.add_fan_in_edges` express parallel branches and joins.\n",
    "- Executors send messages with typed `WorkflowContext`.\n",
    "- Streaming run emits `WorkflowOutputEvent` when the fan-in node yields results.\n"
   ]
  },
  {
   "cell_type": "markdown",
   "metadata": {},
   "source": [
    "### Workflow Diagram\n",
    "```mermaid\n",
    "flowchart LR\n",
    "    Start([\"Number List\"]) --> Dispatcher[[Dispatcher]]\n",
    "    Dispatcher --> Average[[Average]]\n",
    "    Dispatcher --> Sum[[Sum]]\n",
    "    Average --> Aggregator[[Aggregator]]\n",
    "    Sum --> Aggregator\n",
    "    Aggregator --> Output([\"[sum, average]\"])\n",
    "```\n"
   ]
  },
  {
   "cell_type": "markdown",
   "metadata": {},
   "source": [
    "### Step 1: Imports and scenario overview\n",
    "We load the Agent Framework primitives, configure environment variables, and keep the docstring describing the fan-out/fan-in demo.\n"
   ]
  },
  {
   "cell_type": "code",
   "execution_count": null,
   "metadata": {},
   "outputs": [],
   "source": [
    "# Copyright (c) Microsoft. All rights reserved.\n",
    "from dotenv import load_dotenv\n",
    "load_dotenv()\n",
    "\n",
    "import asyncio\n",
    "import random\n",
    "\n",
    "from agent_framework import Executor, WorkflowBuilder, WorkflowContext, WorkflowOutputEvent, handler\n",
    "from typing_extensions import Never\n",
    "\n",
    "\"\"\"\n",
    "Sample: Concurrent fan out and fan in with two different tasks that output results of different types.\n",
    "\n",
    "Purpose:\n",
    "Show how to construct a parallel branch pattern in workflows. Demonstrate:\n",
    "- Fan out by targeting multiple executors from one dispatcher.\n",
    "- Fan in by collecting a list of results from the executors.\n",
    "- Simple tracing using AgentRunEvent to observe execution order and progress.\n",
    "\n",
    "Prerequisites:\n",
    "- Familiarity with WorkflowBuilder, executors, edges, events, and streaming runs.\n",
    "\"\"\"\n",
    "\n",
    "\n"
   ]
  },
  {
   "cell_type": "markdown",
   "metadata": {},
   "source": [
    "### Step 2: Dispatcher fans out the input\n",
    "`Dispatcher` validates the incoming list and forwards it to each parallel worker.\n"
   ]
  },
  {
   "cell_type": "code",
   "execution_count": null,
   "metadata": {},
   "outputs": [],
   "source": [
    "class Dispatcher(Executor):\n",
    "    \"\"\"\n",
    "    The sole purpose of this decorator is to dispatch the input of the workflow to\n",
    "    other executors.\n",
    "    \"\"\"\n",
    "\n",
    "    @handler\n",
    "    async def handle(self, numbers: list[int], ctx: WorkflowContext[list[int]]):\n",
    "        if not numbers:\n",
    "            raise RuntimeError(\"Input must be a valid list of integers.\")\n",
    "\n",
    "        await ctx.send_message(numbers)\n",
    "\n",
    "\n"
   ]
  },
  {
   "cell_type": "markdown",
   "metadata": {},
   "source": [
    "### Step 3: Worker executors compute their metrics\n",
    "`Average` and `Sum` each take the same list and emit their numeric result.\n"
   ]
  },
  {
   "cell_type": "code",
   "execution_count": null,
   "metadata": {},
   "outputs": [],
   "source": [
    "class Average(Executor):\n",
    "    \"\"\"Calculate the average of a list of integers.\"\"\"\n",
    "\n",
    "    @handler\n",
    "    async def handle(self, numbers: list[int], ctx: WorkflowContext[float]):\n",
    "        average: float = sum(numbers) / len(numbers)\n",
    "        await ctx.send_message(average)\n",
    "\n",
    "\n"
   ]
  },
  {
   "cell_type": "code",
   "execution_count": null,
   "metadata": {},
   "outputs": [],
   "source": [
    "class Sum(Executor):\n",
    "    \"\"\"Calculate the sum of a list of integers.\"\"\"\n",
    "\n",
    "    @handler\n",
    "    async def handle(self, numbers: list[int], ctx: WorkflowContext[int]):\n",
    "        total: int = sum(numbers)\n",
    "        await ctx.send_message(total)\n",
    "\n",
    "\n"
   ]
  },
  {
   "cell_type": "markdown",
   "metadata": {},
   "source": [
    "### Step 4: Aggregator fans the results back in\n",
    "`Aggregator` receives a heterogeneous list (`int | float`) and yields it as the final workflow output.\n"
   ]
  },
  {
   "cell_type": "code",
   "execution_count": null,
   "metadata": {},
   "outputs": [],
   "source": [
    "class Aggregator(Executor):\n",
    "    \"\"\"Aggregate the results from the different tasks and yield the final output.\"\"\"\n",
    "\n",
    "    @handler\n",
    "    async def handle(self, results: list[int | float], ctx: WorkflowContext[Never, list[int | float]]):\n",
    "        \"\"\"Receive the results from the source executors.\n",
    "\n",
    "        The framework will automatically collect messages from the source executors\n",
    "        and deliver them as a list.\n",
    "\n",
    "        Args:\n",
    "            results (list[int | float]): execution results from upstream executors.\n",
    "                The type annotation must be a list of union types that the upstream\n",
    "                executors will produce.\n",
    "            ctx (WorkflowContext[Never, list[int | float]]): A workflow context that can yield the final output.\n",
    "        \"\"\"\n",
    "        await ctx.yield_output(results)\n",
    "\n",
    "\n"
   ]
  },
  {
   "cell_type": "markdown",
   "metadata": {},
   "source": [
    "### Step 5: Wire and run the workflow\n",
    "`main()` constructs the graph, executes it with random numbers, and prints the collected outputs.\n"
   ]
  },
  {
   "cell_type": "code",
   "execution_count": null,
   "metadata": {},
   "outputs": [],
   "source": [
    "async def main() -> None:\n",
    "    # 1) Create the executors\n",
    "    dispatcher = Dispatcher(id=\"dispatcher\")\n",
    "    average = Average(id=\"average\")\n",
    "    summation = Sum(id=\"summation\")\n",
    "    aggregator = Aggregator(id=\"aggregator\")\n",
    "\n",
    "    # 2) Build a simple fan out and fan in workflow\n",
    "    workflow = (\n",
    "        WorkflowBuilder()\n",
    "        .set_start_executor(dispatcher)\n",
    "        .add_fan_out_edges(dispatcher, [average, summation])\n",
    "        .add_fan_in_edges([average, summation], aggregator)\n",
    "        .build()\n",
    "    )\n",
    "\n",
    "    # 3) Run the workflow\n",
    "    output: list[int | float] | None = None\n",
    "    async for event in workflow.run_stream([random.randint(1, 100) for _ in range(10)]):\n",
    "        if isinstance(event, WorkflowOutputEvent):\n",
    "            output = event.data\n",
    "\n",
    "    if output is not None:\n",
    "        print(output)\n",
    "\n",
    "\n"
   ]
  },
  {
   "cell_type": "markdown",
   "metadata": {},
   "source": [
    "### Step 6: Try it yourself\n",
    "Use the helper below. In notebooks it awaits `main()` on the active loop; in scripts it falls back to `asyncio.run(main())`.\n"
   ]
  },
  {
   "cell_type": "code",
   "execution_count": null,
   "metadata": {},
   "outputs": [],
   "source": [
    "import asyncio\n",
    "\n",
    "# Helper for notebooks vs. scripts\n",
    "loop = asyncio.get_event_loop()\n",
    "if loop.is_running():\n",
    "    # Jupyter/VS Code notebooks already have an event loop, so await directly.\n",
    "    await main()\n",
    "else:\n",
    "    asyncio.run(main())\n"
   ]
  }
 ],
 "metadata": {
  "kernelspec": {
   "display_name": "Python 3",
   "language": "python",
   "name": "python3"
  },
  "language_info": {
   "name": "python"
  }
 },
 "nbformat": 4,
 "nbformat_minor": 5
}
