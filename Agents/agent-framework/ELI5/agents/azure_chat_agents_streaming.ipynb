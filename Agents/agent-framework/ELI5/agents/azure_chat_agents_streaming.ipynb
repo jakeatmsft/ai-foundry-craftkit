{
 "cells": [
  {
   "cell_type": "markdown",
   "metadata": {},
   "source": [
    "# azure_chat_agents_streaming.py - ELI5 Walkthrough\n",
    "This notebook mirrors `python/samples/getting_started/workflows/agents/azure_chat_agents_streaming.py` with commentary between each step.\n"
   ]
  },
  {
   "cell_type": "markdown",
   "metadata": {},
   "source": [
    "## Big Picture\n",
    "A Writer agent drafts a slogan, the Reviewer agent critiques it, and `run_stream()` lets you watch both agents emit token-by-token updates before the final decision.\n"
   ]
  },
  {
   "cell_type": "markdown",
   "metadata": {},
   "source": [
    "## Key Ingredients\n",
    "- `WorkflowBuilder.add_agent()` turns chat agents into workflow nodes without writing custom executors.\n",
    "- Streaming yields `AgentRunUpdateEvent` deltas so you can print partial generations.\n",
    "- Marking the Reviewer with `output_response=True` surfaces its final reply as a workflow output.\n"
   ]
  },
  {
   "cell_type": "markdown",
   "metadata": {},
   "source": [
    "### Workflow Diagram\n",
    "```mermaid\n",
    "flowchart LR\n",
    "    Start([\"Start Prompt\"]) --> Writer[[Writer agent]]\n",
    "    Writer --> Reviewer[[Reviewer agent]]\n",
    "    Reviewer --> Output([\"Workflow Output\"])\n",
    "```\n"
   ]
  },
  {
   "cell_type": "markdown",
   "metadata": {},
   "source": [
    "### Step 1: Imports, configuration, and context\n",
    "We load environment variables, import Agent Framework streaming primitives, and keep the docstring that describes the scenario.\n"
   ]
  },
  {
   "cell_type": "code",
   "execution_count": null,
   "metadata": {},
   "outputs": [],
   "source": [
    "# Copyright (c) Microsoft. All rights reserved.\n",
    "\n",
    "import asyncio\n",
    "\n",
    "from agent_framework import AgentRunUpdateEvent, WorkflowBuilder, WorkflowOutputEvent\n",
    "from agent_framework.azure import AzureOpenAIChatClient\n",
    "from azure.identity import AzureCliCredential\n",
    "from dotenv import load_dotenv\n",
    "load_dotenv()\n",
    "\n",
    "\"\"\"\n",
    "Sample: Agents in a workflow with streaming\n",
    "\n",
    "A Writer agent generates content, then a Reviewer agent critiques it.\n",
    "The workflow uses streaming so you can observe incremental AgentRunUpdateEvent chunks as each agent produces tokens.\n",
    "\n",
    "Purpose:\n",
    "Show how to wire chat agents into a WorkflowBuilder pipeline using add_agent\n",
    "with settings for streaming and workflow outputs.\n",
    "\n",
    "Demonstrate:\n",
    "- Automatic streaming of agent deltas via AgentRunUpdateEvent when using run_stream().\n",
    "- Add an agent via WorkflowBuilder.add_agent() with output_response=True to emit final AgentRunResponse.\n",
    "- Agents adapt to workflow mode: run_stream() emits incremental updates, run() emits complete responses.\n",
    "\n",
    "Prerequisites:\n",
    "- Azure OpenAI configured for AzureOpenAIChatClient with required environment variables.\n",
    "- Authentication via azure-identity. Use AzureCliCredential and run az login before executing the sample.\n",
    "- Basic familiarity with WorkflowBuilder, edges, events, and streaming runs.\n",
    "\"\"\"\n",
    "\n",
    "\n"
   ]
  },
  {
   "cell_type": "markdown",
   "metadata": {},
   "source": [
    "### Step 2: Build the agents and stream the workflow\n",
    "`main()` creates both chat agents, wires them into a workflow, then iterates `run_stream()` to pretty-print incremental updates and the final output.\n"
   ]
  },
  {
   "cell_type": "code",
   "execution_count": null,
   "metadata": {},
   "outputs": [],
   "source": [
    "async def main():\n",
    "    \"\"\"Build and run a simple two node agent workflow: Writer then Reviewer.\"\"\"\n",
    "    # Create the Azure chat client. AzureCliCredential uses your current az login.\n",
    "    chat_client = AzureOpenAIChatClient(credential=AzureCliCredential())\n",
    "\n",
    "    # Define two domain specific chat agents.\n",
    "    writer_agent = chat_client.create_agent(\n",
    "        instructions=(\n",
    "            \"You are an excellent content writer. You create new content and edit contents based on the feedback.\"\n",
    "        ),\n",
    "        name=\"writer_agent\",\n",
    "    )\n",
    "\n",
    "    reviewer_agent = chat_client.create_agent(\n",
    "        instructions=(\n",
    "            \"You are an excellent content reviewer.\"\n",
    "            \"Provide actionable feedback to the writer about the provided content.\"\n",
    "            \"Provide the feedback in the most concise manner possible.\"\n",
    "        ),\n",
    "        name=\"reviewer_agent\",\n",
    "    )\n",
    "\n",
    "    # Build the workflow using the fluent builder.\n",
    "    # Add agents to workflow with custom settings using add_agent.\n",
    "    # Agents adapt to workflow mode: run_stream() for incremental updates, run() for complete responses.\n",
    "    # Reviewer agent emits final AgentRunResponse as a workflow output.\n",
    "    # Set the start node and connect an edge from writer to reviewer.\n",
    "    workflow = (\n",
    "        WorkflowBuilder()\n",
    "        .add_agent(writer_agent, id=\"Writer\")\n",
    "        .add_agent(reviewer_agent, id=\"Reviewer\", output_response=True)\n",
    "        .set_start_executor(writer_agent)\n",
    "        .add_edge(writer_agent, reviewer_agent)\n",
    "        .build()\n",
    "    )\n",
    "\n",
    "    # Stream events from the workflow. We aggregate partial token updates per executor for readable output.\n",
    "    last_executor_id: str | None = None\n",
    "\n",
    "    events = workflow.run_stream(\"Create a slogan for a new electric SUV that is affordable and fun to drive.\")\n",
    "    async for event in events:\n",
    "        if isinstance(event, AgentRunUpdateEvent):\n",
    "            # AgentRunUpdateEvent contains incremental text deltas from the underlying agent.\n",
    "            # Print a prefix when the executor changes, then append updates on the same line.\n",
    "            eid = event.executor_id\n",
    "            if eid != last_executor_id:\n",
    "                if last_executor_id is not None:\n",
    "                    print()\n",
    "                print(f\"{eid}:\", end=\" \", flush=True)\n",
    "                last_executor_id = eid\n",
    "            print(event.data, end=\"\", flush=True)\n",
    "        elif isinstance(event, WorkflowOutputEvent):\n",
    "            print(\"\\n===== Final output =====\")\n",
    "            print(event.data)\n",
    "\n",
    "    \"\"\"\n",
    "    Sample Output:\n",
    "\n",
    "    writer_agent: Charge Up Your Journey. Fun, Affordable, Electric.\n",
    "    reviewer_agent: Clear message, but consider highlighting SUV specific benefits (space, versatility) for stronger\n",
    "        impact. Try more vivid language to evoke excitement. Example: \"Big on Space. Big on Fun. Electric for Everyone.\"\n",
    "    ===== Final Output =====\n",
    "    Clear message, but consider highlighting SUV specific benefits (space, versatility) for stronger impact. Try more\n",
    "        vivid language to evoke excitement. Example: \"Big on Space. Big on Fun. Electric for Everyone.\"\n",
    "    \"\"\"\n",
    "\n",
    "\n"
   ]
  },
  {
   "cell_type": "markdown",
   "metadata": {},
   "source": [
    "### Step 3: Try it yourself\n",
    "Use the helper below. In notebooks it awaits `main()` on the active loop; in scripts it falls back to `asyncio.run(main())`.\n"
   ]
  },
  {
   "cell_type": "code",
   "execution_count": null,
   "metadata": {},
   "outputs": [],
   "source": [
    "import asyncio\n",
    "\n",
    "# Helper for notebooks vs. scripts\n",
    "loop = asyncio.get_event_loop()\n",
    "if loop.is_running():\n",
    "    # Jupyter/VS Code notebooks already have an event loop, so await directly.\n",
    "    await main()\n",
    "else:\n",
    "    asyncio.run(main())\n"
   ]
  }
 ],
 "metadata": {
  "kernelspec": {
   "display_name": "Python 3",
   "language": "python",
   "name": "python3"
  },
  "language_info": {
   "name": "python"
  }
 },
 "nbformat": 4,
 "nbformat_minor": 5
}
