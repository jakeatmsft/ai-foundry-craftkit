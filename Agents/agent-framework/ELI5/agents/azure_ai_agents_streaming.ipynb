{
 "cells": [
  {
   "cell_type": "markdown",
   "metadata": {},
   "source": [
    "# azure_ai_agents_streaming.py - ELI5 Walkthrough\n",
    "This notebook gives a super-friendly tour of `python/samples/getting_started/workflows/agents/azure_ai_agents_streaming.py` from the Agent Framework samples.\n"
   ]
  },
  {
   "cell_type": "markdown",
   "metadata": {},
   "source": [
    "## Big Picture\n",
    "Imagine two coworkers: a Writer who drafts marketing slogans and a Reviewer who reacts in real time. \n",
    "This workflow wires both Azure AI agents together and streams their thoughts token by token so you can watch the creative back-and-forth live.\n"
   ]
  },
  {
   "cell_type": "markdown",
   "metadata": {},
   "source": [
    "## Key Ingredients\n",
    "- **AzureAIAgentClient** - spins up hosted Azure AI agents with instructions.\n",
    "- **AsyncExitStack** - keeps async context managers tidy and closes everything once we're done.\n",
    "- **WorkflowBuilder.add_agent** - drops ready-to-use agent executors into the workflow graph.\n",
    "- **run_stream() + AgentRunUpdateEvent** - streams incremental text chunks you can print as they arrive.\n",
    "- **WorkflowOutputEvent** - emits the reviewer's final verdict as the workflow output.\n"
   ]
  },
  {
   "cell_type": "markdown",
   "metadata": {},
   "source": [
    "### Workflow Diagram\n",
    "```mermaid\n",
    "flowchart LR\n",
    "    Start([\"Start Prompt\"]) --> Writer[[Writer agent]]\n",
    "    Writer --> Reviewer[[Reviewer agent]]\n",
    "    Reviewer --> Output([\"Workflow Output\"])\n",
    "```\n"
   ]
  },
  {
   "cell_type": "code",
   "execution_count": null,
   "metadata": {},
   "outputs": [],
   "source": [
    "import asyncio\n",
    "from collections.abc import Awaitable, Callable\n",
    "from contextlib import AsyncExitStack\n",
    "from typing import Any, Optional\n",
    "\n",
    "from agent_framework import AgentRunUpdateEvent, WorkflowBuilder, WorkflowOutputEvent\n",
    "from agent_framework.azure import AzureAIAgentClient\n",
    "from azure.identity.aio import AzureCliCredential\n",
    "from dotenv import load_dotenv\n",
    "\n",
    "load_dotenv()\n",
    "\n",
    "async def create_azure_ai_agent() -> tuple[Callable[..., Awaitable[Any]], Callable[[], Awaitable[None]]]:\n",
    "    \"\"\"Helper method to create an Azure AI agent factory and a close function.\"\"\"\n",
    "    stack = AsyncExitStack()\n",
    "    cred = await stack.enter_async_context(AzureCliCredential())\n",
    "    client = await stack.enter_async_context(AzureAIAgentClient(async_credential=cred))\n",
    "\n",
    "    async def agent(**kwargs: Any) -> Any:\n",
    "        return await stack.enter_async_context(client.create_agent(**kwargs))\n",
    "\n",
    "    async def close() -> None:\n",
    "        await stack.aclose()\n",
    "\n",
    "    return agent, close\n",
    "\n",
    "\n",
    "async def main() -> None:\n",
    "    agent, close = await create_azure_ai_agent()\n",
    "    try:\n",
    "        writer = await agent(\n",
    "            name=\"Writer\",\n",
    "            instructions=(\n",
    "                \"You are an excellent content writer. You create new content and edit contents based on the feedback.\"\n",
    "            ),\n",
    "        )\n",
    "        reviewer = await agent(\n",
    "            name=\"Reviewer\",\n",
    "            instructions=(\n",
    "                \"You are an excellent content reviewer. \"\n",
    "                \"Provide actionable feedback to the writer about the provided content. \"\n",
    "                \"Provide the feedback in the most concise manner possible.\"\n",
    "            ),\n",
    "        )\n",
    "        workflow = (\n",
    "            WorkflowBuilder()\n",
    "            .set_start_executor(writer)\n",
    "            .add_edge(writer, reviewer)\n",
    "            .build()\n",
    "        )\n",
    "\n",
    "        last_executor_id: Optional[str] = None\n",
    "        events = workflow.run_stream(\"Create a slogan for a new electric SUV that is affordable and fun to drive.\")\n",
    "        async for event in events:\n",
    "            if isinstance(event, AgentRunUpdateEvent):\n",
    "                eid = event.executor_id\n",
    "                if eid != last_executor_id:\n",
    "                    if last_executor_id is not None:\n",
    "                        print()\n",
    "                    print(f\"{eid}:\", end=\" \", flush=True)\n",
    "                    last_executor_id = eid\n",
    "                print(event.data, end=\"\", flush=True)\n",
    "            elif isinstance(event, WorkflowOutputEvent):\n",
    "                print(\"\\n===== Final output =====\")\n",
    "                print(event.data)\n",
    "    finally:\n",
    "        await close()\n",
    "\n",
    "\n",
    "# main() is left defined but not executed so you can control when to run the Azure workflow.\n"
   ]
  },
  {
   "cell_type": "markdown",
   "metadata": {},
   "source": [
    "## What the script does\n",
    "This sample links a writer and reviewer Azure AI agent with streaming updates.\n"
   ]
  },
  {
   "cell_type": "markdown",
   "metadata": {},
   "source": [
    "## Setting up the agents safely\n",
    "create_azure_ai_agent() hides the boilerplate for spinning up Azure CLI auth and the Azure AI agent client. \n",
    "It returns a factory that the workflow uses to create agents on demand, plus a close() helper so everything shuts down cleanly.\n",
    "\n",
    "The async exit stack tracks every context manager so a single await close() unwinds credentials, clients, and agents even if an error appears mid-run.\n"
   ]
  },
  {
   "cell_type": "code",
   "execution_count": 2,
   "metadata": {},
   "outputs": [
    {
     "name": "stdout",
     "output_type": "stream",
     "text": [
      "async def create_azure_ai_agent() -> tuple[Callable[..., Awaitable[Any]], Callable[[], Awaitable[None]]]:\n",
      "    \"\"\"Helper method to create an Azure AI agent factory and a close function.\"\"\"\n",
      "    stack = AsyncExitStack()\n",
      "    cred = await stack.enter_async_context(AzureCliCredential())\n",
      "    client = await stack.enter_async_context(AzureAIAgentClient(async_credential=cred))\n",
      "\n",
      "    async def agent(**kwargs: Any) -> Any:\n",
      "        return await stack.enter_async_context(client.create_agent(**kwargs))\n",
      "\n",
      "    async def close() -> None:\n",
      "        await stack.aclose()\n",
      "\n",
      "    return agent, close\n",
      "\n"
     ]
    }
   ],
   "source": [
    "import inspect\n",
    "print(inspect.getsource(create_azure_ai_agent))\n"
   ]
  },
  {
   "cell_type": "markdown",
   "metadata": {},
   "source": [
    "## Building the workflow pipeline\n",
    "The workflow graph is tiny on purpose:\n",
    "1. Kick off with the Writer agent (set as the start executor).\n",
    "2. Pipe whatever the Writer produces straight into the Reviewer using .add_edge(writer, reviewer).\n",
    "3. Mark the Reviewer with output_response=True so its final AgentRunResponse becomes a workflow output.\n",
    "\n",
    "Adding real agent objects via add_agent means the framework handles run vs. stream wiring with no extra glue code from you.\n"
   ]
  },
  {
   "cell_type": "code",
   "execution_count": 3,
   "metadata": {},
   "outputs": [
    {
     "data": {
      "text/plain": [
       "[('start', 'Writer', 'prompt -> draft'),\n",
       " ('Writer', 'Reviewer', 'stream drafts token-by-token'),\n",
       " ('Reviewer', 'workflow_output', 'final critique')]"
      ]
     },
     "execution_count": 3,
     "metadata": {},
     "output_type": "execute_result"
    }
   ],
   "source": [
    "workflow_outline = [\n",
    "    ('start', 'Writer', 'prompt -> draft'),\n",
    "    ('Writer', 'Reviewer', 'stream drafts token-by-token'),\n",
    "    ('Reviewer', 'workflow_output', 'final critique'),\n",
    "]\n",
    "workflow_outline\n"
   ]
  },
  {
   "cell_type": "markdown",
   "metadata": {},
   "source": [
    "## Streaming events in action\n",
    "When you call workflow.run_stream(...), the engine yields two kinds of events that this sample prints:\n",
    "- AgentRunUpdateEvent - incremental text chunks produced by the current agent.\n",
    "- WorkflowOutputEvent - the final answer that the Reviewer yields once the run is done.\n",
    "\n",
    "The loop keeps track of which executor is currently speaking so the console output stays readable.\n"
   ]
  },
  {
   "cell_type": "code",
   "execution_count": 4,
   "metadata": {},
   "outputs": [
    {
     "name": "stdout",
     "output_type": "stream",
     "text": [
      "Writer: Drafting: Electric thrills for everyone. Embrace the spark.\n",
      "Reviewer: Suggestion: Mention affordability sooner.\n",
      "===== Final output =====\n",
      "Final tweak: Electric fun you can afford.\n"
     ]
    }
   ],
   "source": [
    "from agent_framework import AgentRunResponseUpdate\n",
    "\n",
    "mock_stream = [\n",
    "    AgentRunUpdateEvent('Writer', AgentRunResponseUpdate(text='Drafting: Electric thrills for everyone.')),\n",
    "    AgentRunUpdateEvent('Writer', AgentRunResponseUpdate(text=' Embrace the spark.')),\n",
    "    AgentRunUpdateEvent('Reviewer', AgentRunResponseUpdate(text='Suggestion: Mention affordability sooner.')),\n",
    "    WorkflowOutputEvent('Final tweak: Electric fun you can afford.', source_executor_id='Reviewer'),\n",
    "]\n",
    "\n",
    "last_executor = None\n",
    "for event in mock_stream:\n",
    "    if isinstance(event, AgentRunUpdateEvent):\n",
    "        if event.executor_id != last_executor:\n",
    "            if last_executor is not None:\n",
    "                print()\n",
    "            print(\"{}:\".format(event.executor_id), end=\" \", flush=True)\n",
    "            last_executor = event.executor_id\n",
    "        print(event.data.text, end=\"\", flush=True)\n",
    "    elif isinstance(event, WorkflowOutputEvent):\n",
    "        print(\"\\n===== Final output =====\")\n",
    "        print(event.data)\n"
   ]
  },
  {
   "cell_type": "markdown",
   "metadata": {},
   "source": [
    "## Takeaways\n",
    "- AsyncExitStack makes async resource cleanup painless even with multiple agents.\n",
    "- add_agent(..., output_response=True) is how you surface the final reviewer message as workflow output.\n",
    "- Streaming events let you build live dashboards or logs without waiting for the run to finish.\n",
    "- You can scale the pattern with more agents (editor, fact-checker, translator) by chaining more add_agent and add_edge calls.\n"
   ]
  },
  {
   "cell_type": "code",
   "execution_count": 5,
   "metadata": {},
   "outputs": [
    {
     "ename": "AttributeError",
     "evalue": "'WorkflowBuilder' object has no attribute 'add_agent'",
     "output_type": "error",
     "traceback": [
      "\u001b[1;31m---------------------------------------------------------------------------\u001b[0m",
      "\u001b[1;31mAttributeError\u001b[0m                            Traceback (most recent call last)",
      "Cell \u001b[1;32mIn[5], line 7\u001b[0m\n\u001b[0;32m      4\u001b[0m loop \u001b[38;5;241m=\u001b[39m asyncio\u001b[38;5;241m.\u001b[39mget_event_loop()\n\u001b[0;32m      5\u001b[0m \u001b[38;5;28;01mif\u001b[39;00m loop\u001b[38;5;241m.\u001b[39mis_running():\n\u001b[0;32m      6\u001b[0m     \u001b[38;5;66;03m# Jupyter/VS Code notebooks already have an event loop, so await directly.\u001b[39;00m\n\u001b[1;32m----> 7\u001b[0m     \u001b[38;5;28;01mawait\u001b[39;00m main()\n\u001b[0;32m      8\u001b[0m \u001b[38;5;28;01melse\u001b[39;00m:\n\u001b[0;32m      9\u001b[0m     asyncio\u001b[38;5;241m.\u001b[39mrun(main())\n",
      "Cell \u001b[1;32mIn[1], line 47\u001b[0m, in \u001b[0;36mmain\u001b[1;34m()\u001b[0m\n\u001b[0;32m     31\u001b[0m writer \u001b[38;5;241m=\u001b[39m \u001b[38;5;28;01mawait\u001b[39;00m agent(\n\u001b[0;32m     32\u001b[0m     name\u001b[38;5;241m=\u001b[39m\u001b[38;5;124m\"\u001b[39m\u001b[38;5;124mWriter\u001b[39m\u001b[38;5;124m\"\u001b[39m,\n\u001b[0;32m     33\u001b[0m     instructions\u001b[38;5;241m=\u001b[39m(\n\u001b[0;32m     34\u001b[0m         \u001b[38;5;124m\"\u001b[39m\u001b[38;5;124mYou are an excellent content writer. You create new content and edit contents based on the feedback.\u001b[39m\u001b[38;5;124m\"\u001b[39m\n\u001b[0;32m     35\u001b[0m     ),\n\u001b[0;32m     36\u001b[0m )\n\u001b[0;32m     37\u001b[0m reviewer \u001b[38;5;241m=\u001b[39m \u001b[38;5;28;01mawait\u001b[39;00m agent(\n\u001b[0;32m     38\u001b[0m     name\u001b[38;5;241m=\u001b[39m\u001b[38;5;124m\"\u001b[39m\u001b[38;5;124mReviewer\u001b[39m\u001b[38;5;124m\"\u001b[39m,\n\u001b[0;32m     39\u001b[0m     instructions\u001b[38;5;241m=\u001b[39m(\n\u001b[1;32m   (...)\u001b[0m\n\u001b[0;32m     43\u001b[0m     ),\n\u001b[0;32m     44\u001b[0m )\n\u001b[0;32m     45\u001b[0m workflow \u001b[38;5;241m=\u001b[39m (\n\u001b[0;32m     46\u001b[0m     \u001b[43mWorkflowBuilder\u001b[49m\u001b[43m(\u001b[49m\u001b[43m)\u001b[49m\n\u001b[1;32m---> 47\u001b[0m \u001b[43m    \u001b[49m\u001b[38;5;241;43m.\u001b[39;49m\u001b[43madd_agent\u001b[49m(writer, \u001b[38;5;28mid\u001b[39m\u001b[38;5;241m=\u001b[39m\u001b[38;5;124m\"\u001b[39m\u001b[38;5;124mWriter\u001b[39m\u001b[38;5;124m\"\u001b[39m)\n\u001b[0;32m     48\u001b[0m     \u001b[38;5;241m.\u001b[39madd_agent(reviewer, \u001b[38;5;28mid\u001b[39m\u001b[38;5;241m=\u001b[39m\u001b[38;5;124m\"\u001b[39m\u001b[38;5;124mReviewer\u001b[39m\u001b[38;5;124m\"\u001b[39m, output_response\u001b[38;5;241m=\u001b[39m\u001b[38;5;28;01mTrue\u001b[39;00m)\n\u001b[0;32m     49\u001b[0m     \u001b[38;5;241m.\u001b[39mset_start_executor(writer)\n\u001b[0;32m     50\u001b[0m     \u001b[38;5;241m.\u001b[39madd_edge(writer, reviewer)\n\u001b[0;32m     51\u001b[0m     \u001b[38;5;241m.\u001b[39mbuild()\n\u001b[0;32m     52\u001b[0m )\n\u001b[0;32m     54\u001b[0m last_executor_id: Optional[\u001b[38;5;28mstr\u001b[39m] \u001b[38;5;241m=\u001b[39m \u001b[38;5;28;01mNone\u001b[39;00m\n\u001b[0;32m     55\u001b[0m events \u001b[38;5;241m=\u001b[39m workflow\u001b[38;5;241m.\u001b[39mrun_stream(\u001b[38;5;124m\"\u001b[39m\u001b[38;5;124mCreate a slogan for a new electric SUV that is affordable and fun to drive.\u001b[39m\u001b[38;5;124m\"\u001b[39m)\n",
      "\u001b[1;31mAttributeError\u001b[0m: 'WorkflowBuilder' object has no attribute 'add_agent'"
     ]
    }
   ],
   "source": [
    "import asyncio\n",
    "\n",
    "# Helper for notebooks vs. scripts\n",
    "loop = asyncio.get_event_loop()\n",
    "if loop.is_running():\n",
    "    # Jupyter/VS Code notebooks already have an event loop, so await directly.\n",
    "    await main()\n",
    "else:\n",
    "    asyncio.run(main())\n"
   ]
  },
  {
   "cell_type": "code",
   "execution_count": null,
   "id": "3fe481f2",
   "metadata": {},
   "outputs": [],
   "source": []
  }
 ],
 "metadata": {
  "kernelspec": {
   "display_name": "oai",
   "language": "python",
   "name": "python3"
  },
  "language_info": {
   "codemirror_mode": {
    "name": "ipython",
    "version": 3
   },
   "file_extension": ".py",
   "mimetype": "text/x-python",
   "name": "python",
   "nbconvert_exporter": "python",
   "pygments_lexer": "ipython3",
   "version": "3.12.9"
  }
 },
 "nbformat": 4,
 "nbformat_minor": 5
}
