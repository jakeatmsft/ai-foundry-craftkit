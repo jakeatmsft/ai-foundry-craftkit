{
  "cells": [
    {
      "cell_type": "markdown",
      "metadata": {},
      "source": [
        "# custom_aisearch_agent.py - ELI5 Walkthrough\n",
        "This notebook reconstructs a proof-of-concept workflow that pairs Azure AI Search retrieval with an Agent Framework pipeline.\n",
        "It mirrors the sample structure used throughout these ELI5 notebooks so you can explore each stage of the orchestration step by step.\n"
      ]
    },
    {
      "cell_type": "markdown",
      "metadata": {},
      "source": [
        "## Big Picture\n",
        "Use Azure AI Search to pull grounded context, hand the enriched payload to an Azure OpenAI agent, and surface the\n",
        "final answer as the workflow output.\n"
      ]
    },
    {
      "cell_type": "markdown",
      "metadata": {},
      "source": [
        "## Key Ingredients\n",
        "- `AzureSearchRetriever` wraps the Azure AI Search SDK and keeps the index hydrated with sample data.\n",
        "- `RetrieveAzureSearchContext` calls the retriever from inside a workflow executor node.\n",
        "- `AnswerWithSearchContext` runs an Azure OpenAI backed agent that transforms search results into a response.\n",
        "- `WorkflowBuilder` connects the retrieval and answer stages without hand-rolled orchestration code.\n"
      ]
    },
    {
      "cell_type": "markdown",
      "metadata": {},
      "source": [
        "## Workflow Diagram\n",
        "```mermaid\n",
        "flowchart LR\n",
        "    Q([\"User Query\"]) --> R[[\"Azure AI Search Executor\"]]\n",
        "    R --> A[[\"Agent synthesizer\"]]\n",
        "    A --> O([\"Grounded Answer\"])\n",
        "```\n"
      ]
    },
    {
      "cell_type": "markdown",
      "metadata": {},
      "source": [
        "### Step 1: Imports, configuration, and scenario overview\n",
        "Load environment variables first, then pull in the Azure AI Search SDK and Agent Framework helpers used throughout the sample.\n"
      ]
    },
    {
      "cell_type": "code",
      "execution_count": 1,
      "metadata": {},
      "outputs": [
        {
          "data": {
            "text/plain": [
              "'\\nScenario summary:\\n- Use Azure AI Search to fetch relevant snippets for a user question.\\n- Feed those snippets into an Azure OpenAI powered agent that drafts the final answer.\\n- Demonstrate how execution tasks and agent tasks cooperate inside WorkflowBuilder.\\n\\nEnvironment prerequisites (document these values in `.env.example`):\\n- `AZURE_SEARCH_ENDPOINT`\\n- `AZURE_SEARCH_API_KEY`\\n- `AZURE_SEARCH_INDEX_NAME`\\n- `AZURE_OPENAI_ENDPOINT`, `AZURE_OPENAI_CHAT_DEPLOYMENT_NAME`, `AZURE_OPENAI_API_VERSION` (consumed by AzureOpenAIChatClient)\\n\\nOptional: set `SEED_SEARCH_INDEX=true` to load a small in-memory data set for quick demos.\\n'"
            ]
          },
          "execution_count": 1,
          "metadata": {},
          "output_type": "execute_result"
        }
      ],
      "source": [
        "# Copyright (c) Microsoft. All rights reserved.\n",
        "from dotenv import load_dotenv\n",
        "load_dotenv()\n",
        "\n",
        "import asyncio\n",
        "import os\n",
        "from typing import Any, Dict, Iterable, List\n",
        "\n",
        "from agent_framework import (\n",
        "    ChatAgent,\n",
        "    Executor,\n",
        "    WorkflowBuilder,\n",
        "    WorkflowContext,\n",
        "    handler,\n",
        ")\n",
        "from agent_framework.azure import AzureOpenAIChatClient\n",
        "from azure.core.credentials import AzureKeyCredential\n",
        "from azure.core.exceptions import ResourceExistsError\n",
        "from azure.identity import AzureCliCredential\n",
        "from azure.search.documents import SearchClient\n",
        "from azure.search.documents.indexes import SearchIndexClient\n",
        "from azure.search.documents.indexes.models import (\n",
        "    SearchIndex,\n",
        "    SearchFieldDataType,\n",
        "    SearchableField,\n",
        "    SimpleField,\n",
        ")\n",
        "\n",
        "\"\"\"\n",
        "Scenario summary:\n",
        "- Use Azure AI Search to fetch relevant snippets for a user question.\n",
        "- Feed those snippets into an Azure OpenAI powered agent that drafts the final answer.\n",
        "- Demonstrate how execution tasks and agent tasks cooperate inside WorkflowBuilder.\n",
        "\n",
        "Environment prerequisites (document these values in `.env.example`):\n",
        "- `AZURE_SEARCH_ENDPOINT`\n",
        "- `AZURE_SEARCH_API_KEY`\n",
        "- `AZURE_SEARCH_INDEX_NAME`\n",
        "- `AZURE_OPENAI_ENDPOINT`, `AZURE_OPENAI_CHAT_DEPLOYMENT_NAME`, `AZURE_OPENAI_API_VERSION` (consumed by AzureOpenAIChatClient)\n",
        "\n",
        "Optional: set `SEED_SEARCH_INDEX=true` to load a small in-memory data set for quick demos.\n",
        "\"\"\"\n"
      ]
    },
    {
      "cell_type": "markdown",
      "metadata": {},
      "source": [
        "### Step 2: Wrap Azure AI Search in a lightweight helper\n",
        "The helper below owns the Search clients, ensures the index schema exists, optionally seeds sample documents, and exposes a\n",
        "`get_retrieval_context` method that returns a newline-joined string of document excerpts.\n"
      ]
    },
    {
      "cell_type": "code",
      "execution_count": 4,
      "metadata": {},
      "outputs": [],
      "source": [
        "class AzureSearchRetriever:\n",
        "    \"\"\"Utility that manages index setup and fetches snippets using Azure AI Search.\"\"\"\n",
        "\n",
        "    def __init__(self, endpoint: str, api_key: str, index_name: str) -> None:\n",
        "        credential = AzureKeyCredential(api_key)\n",
        "        self.index_name = index_name\n",
        "        self.index_client = SearchIndexClient(endpoint=endpoint, credential=credential)\n",
        "        self.search_client = SearchClient(endpoint=endpoint, index_name=index_name, credential=credential)\n",
        "\n",
        "    def ensure_index(self) -> None:\n",
        "        \"\"\"Create the search index if it does not already exist.\"\"\"\n",
        "        fields = [\n",
        "            SimpleField(name=\"id\", type=SearchFieldDataType.String, key=True),\n",
        "            SearchableField(name=\"content\", type=SearchFieldDataType.String, searchable=True),\n",
        "        ]\n",
        "        index = SearchIndex(name=self.index_name, fields=fields)\n",
        "        try:\n",
        "            self.index_client.create_index(index)\n",
        "        except ResourceExistsError:\n",
        "            # Index already exists; reuse it.\n",
        "            return\n",
        "\n",
        "    def seed_documents(self, documents: Iterable[Dict[str, Any]]) -> None:\n",
        "        \"\"\"Upload sample documents to make the demo self-contained.\n",
        "\n",
        "        Skip if the iterable is empty to avoid unnecessary service calls.\n",
        "        \"\"\"\n",
        "        docs = list(documents)\n",
        "        if not docs:\n",
        "            return\n",
        "        self.search_client.upload_documents(documents=docs)\n",
        "\n",
        "    def get_retrieval_context(self, query: str) -> str:\n",
        "        \"\"\"Run a simple full-text search and concatenate the snippets.\"\"\"\n",
        "        results = self.search_client.search(query)\n",
        "        context_strings: List[str] = []\n",
        "        for result in results:\n",
        "            context_strings.append(f\"Document: {result['content']}\")\n",
        "        return \"\".join(context_strings) if context_strings else \"No results found\"\n",
        "\n",
        "\n",
        "SAMPLE_DOCUMENTS: List[Dict[str, Any]] = [\n",
        "    {\"id\": \"1\", \"content\": \"Contoso Banking waives monthly fees for savings accounts with automated deposits.\"},\n",
        "    {\"id\": \"2\", \"content\": \"Customers can reach Contoso support 24/7 via chat, phone, or the mobile app.\"},\n",
        "    {\"id\": \"3\", \"content\": \"The rewards credit card includes travel insurance and zero foreign transaction fees.\"},\n",
        "]\n"
      ]
    },
    {
      "cell_type": "markdown",
      "metadata": {},
      "source": [
        "### Step 3: Define workflow executors and bind the agent\n",
        "One executor asks Azure AI Search for context, the next executor hands that context to an agent and produces the final answer.\n"
      ]
    },
    {
      "cell_type": "code",
      "execution_count": 6,
      "metadata": {},
      "outputs": [],
      "source": [
        "class RetrieveAzureSearchContext(Executor):\n",
        "    \"\"\"Fetch search results for the inbound query and forward context downstream.\"\"\"\n",
        "\n",
        "    def __init__(self, retriever: AzureSearchRetriever) -> None:\n",
        "        super().__init__(id=\"azure_ai_search_lookup\")\n",
        "        self.retriever = retriever\n",
        "\n",
        "    @handler\n",
        "    async def handle(self, query: str, ctx: WorkflowContext[dict[str, str], str]) -> None:\n",
        "        context = self.retriever.get_retrieval_context(query)\n",
        "        payload = {\"query\": query, \"context\": context}\n",
        "        await ctx.send_message(payload)\n",
        "\n",
        "\n",
        "class AnswerWithSearchContext(Executor):\n",
        "    \"\"\"Run an agent with the retrieved snippets and yield the final answer.\"\"\"\n",
        "\n",
        "    def __init__(self, agent: ChatAgent) -> None:\n",
        "        super().__init__(id=\"answer_with_context\")\n",
        "        self.agent = agent\n",
        "\n",
        "    @handler\n",
        "    async def handle(self, payload: dict[str, str], ctx: WorkflowContext[str, str]) -> None:\n",
        "        query = payload[\"query\"]\n",
        "        context = payload[\"context\"]\n",
        "        prompt = (\"You are a helpful banking assistant. Use only the provided context to answer the question.\"\n",
        "            \"If the context says 'No results found', acknowledge that the information is unavailable.\"\n",
        "            \"Context:{context} Question: {query} Answer:\"\n",
        "        )\n",
        "        response = await self.agent.run(prompt.format(context=context, query=query))\n",
        "        if response.messages:\n",
        "            answer = response.messages[-1].text\n",
        "        else:\n",
        "            answer = \"The agent did not return a message.\"\n",
        "        await ctx.yield_output(answer)\n",
        "\n",
        "\n",
        "def build_search_workflow(retriever: AzureSearchRetriever, agent: ChatAgent):\n",
        "    \"\"\"Construct the two-node workflow and return it.\"\"\"\n",
        "    retrieve = RetrieveAzureSearchContext(retriever)\n",
        "    answer = AnswerWithSearchContext(agent)\n",
        "    return (\n",
        "        WorkflowBuilder()\n",
        "        .set_start_executor(retrieve)\n",
        "        .add_edge(retrieve, answer)\n",
        "        .build()\n",
        "    )\n"
      ]
    },
    {
      "cell_type": "markdown",
      "metadata": {},
      "source": [
        "### Step 4: Bootstrap the clients, optionally seed the index, and run the workflow\n",
        "This cell wires everything together. The helper handles Jupyter vs. script execution so you can run it in either environment.\n"
      ]
    },
    {
      "cell_type": "code",
      "execution_count": null,
      "metadata": {},
      "outputs": [],
      "source": [
        "async def main() -> None:\n",
        "    \"\"\"Instantiate clients, build the workflow, and execute a sample query.\"\"\"\n",
        "    search_endpoint = os.environ.get(\"AZURE_SEARCH_ENDPOINT\")\n",
        "    search_api_key = os.environ.get(\"AZURE_SEARCH_API_KEY\")\n",
        "    index_name = os.environ.get(\"AZURE_SEARCH_INDEX_NAME\")\n",
        "\n",
        "    if not all([search_endpoint, search_api_key, index_name]):\n",
        "        raise RuntimeError(\"Missing Azure AI Search configuration. Check .env settings.\")\n",
        "\n",
        "    retriever = AzureSearchRetriever(\n",
        "        endpoint=search_endpoint,\n",
        "        api_key=search_api_key,\n",
        "        index_name=index_name,\n",
        "    )\n",
        "    retriever.ensure_index()\n",
        "\n",
        "    if os.environ.get(\"SEED_SEARCH_INDEX\", \"false\").lower() in {\"1\", \"true\", \"yes\"}:\n",
        "        retriever.seed_documents(SAMPLE_DOCUMENTS)\n",
        "\n",
        "    chat_client = AzureOpenAIChatClient(credential=AzureCliCredential())\n",
        "    agent = chat_client.create_agent(\n",
        "        instructions=(\"You answer customer banking questions and only cite information present in the context provided.\"\n",
        "            \"Respond in 2-3 sentences.\"\n",
        "        )\n",
        "    )\n",
        "\n",
        "    workflow = build_search_workflow(retriever, agent)\n",
        "    events = await workflow.run(\"What perks does the rewards credit card include?\")\n",
        "    outputs = events.get_outputs()\n",
        "    if outputs:\n",
        "        print(outputs[-1])\n",
        "    else:\n",
        "        print(\"Workflow completed without outputs.\")\n",
        "\n",
        "\n",
        "loop = asyncio.get_event_loop()\n",
        "if loop.is_running():\n",
        "    await main()\n",
        "else:\n",
        "    asyncio.run(main())\n"
      ]
    },
    {
      "cell_type": "code",
      "execution_count": null,
      "id": "531fdac3",
      "metadata": {},
      "outputs": [],
      "source": []
    }
  ],
  "metadata": {
    "kernelspec": {
      "display_name": "oai",
      "language": "python",
      "name": "python3"
    },
    "language_info": {
      "codemirror_mode": {
        "name": "ipython",
        "version": 3
      },
      "file_extension": ".py",
      "mimetype": "text/x-python",
      "name": "python",
      "nbconvert_exporter": "python",
      "pygments_lexer": "ipython3",
      "version": "3.12.9"
    }
  },
  "nbformat": 4,
  "nbformat_minor": 5
}
