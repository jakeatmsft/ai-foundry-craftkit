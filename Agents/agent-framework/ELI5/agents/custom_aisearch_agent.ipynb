{
  "cells": [
    {
      "cell_type": "markdown",
      "metadata": {},
      "source": [
        "# custom_aisearch_agent.py - ELI5 Walkthrough\n",
        "This notebook reconstructs a proof-of-concept workflow that pairs Azure AI Search retrieval with an Agent Framework pipeline.\n",
        "It mirrors the sample structure used throughout these ELI5 notebooks so you can explore each stage of the orchestration step by step.\n"
      ]
    },
    {
      "cell_type": "markdown",
      "id": "9c5e8881",
      "metadata": {},
      "source": [
        "## Big Picture\n",
        "Use Azure AI Search to pull grounded context, hand the enriched payload to an Azure AI Agent, and surface the\n",
        "final answer as the workflow output.\n"
      ]
    },
    {
      "cell_type": "markdown",
      "id": "822af80a",
      "metadata": {},
      "source": [
        "## Key Ingredients\n",
        "- `AzureSearchRetriever` wraps the Azure AI Search SDK and keeps the index hydrated with sample data.\n",
        "- `RetrieveAzureSearchContext` calls the retriever from inside a workflow executor node.\n",
        "- `AzureAIAgentClient` spins up hosted Azure AI agents that can live inside the workflow graph.\n",
        "- `WorkflowBuilder` connects the retrieval and answer stages without hand-rolled orchestration code.\n"
      ]
    },
    {
      "cell_type": "markdown",
      "id": "718af7bb",
      "metadata": {},
      "source": [
        "## Workflow Diagram\n",
        "```mermaid\n",
        "flowchart LR\n",
        "    Q([\"User Query\"]) --> R[[\"Azure AI Search Executor\"]]\n",
        "    R --> A[[\"Azure AI Agent\"]]\n",
        "    A --> O([\"Grounded Answer\"])\n",
        "```\n"
      ]
    },
    {
      "cell_type": "markdown",
      "id": "1e6ab018",
      "metadata": {},
      "source": [
        "### Step 1: Imports, configuration, and scenario overview\n",
        "Load environment variables first, then pull in the Azure AI Search SDK and Agent Framework helpers used throughout the sample.\n"
      ]
    },
    {
      "cell_type": "code",
      "execution_count": 12,
      "id": "65793c78",
      "metadata": {},
      "outputs": [
        {
          "data": {
            "text/plain": [
              "'\\nScenario summary:\\n- Use Azure AI Search to fetch relevant snippets for a user question.\\n- Feed those snippets into a hosted Azure AI agent that drafts the final answer.\\n- Demonstrate how execution tasks and agent tasks cooperate inside WorkflowBuilder.\\n\\nEnvironment prerequisites (document these values in `.env.example`):\\n- `AZURE_SEARCH_ENDPOINT`\\n- `AZURE_SEARCH_API_KEY`\\n- `AZURE_SEARCH_INDEX_NAME`\\n- `AZURE_AI_PROJECT_NAME`, `AZURE_AI_AGENT_NAME` (or any additional settings required by Azure AI Agents service)\\n\\nOptional: set `SEED_SEARCH_INDEX=true` to load a small in-memory data set for quick demos.\\n'"
            ]
          },
          "execution_count": 12,
          "metadata": {},
          "output_type": "execute_result"
        }
      ],
      "source": [
        "# Copyright (c) Microsoft. All rights reserved.\n",
        "from dotenv import load_dotenv\n",
        "load_dotenv()\n",
        "\n",
        "import asyncio\n",
        "import os\n",
        "from collections.abc import Awaitable, Callable\n",
        "from contextlib import AsyncExitStack\n",
        "from typing import Any, Dict, Iterable, List, Optional\n",
        "\n",
        "from agent_framework import (\n",
        "    AgentRunUpdateEvent,\n",
        "    Executor,\n",
        "    WorkflowBuilder,\n",
        "    WorkflowContext,\n",
        "    WorkflowOutputEvent,\n",
        "    handler,\n",
        ")\n",
        "from agent_framework.azure import AzureAIAgentClient\n",
        "from azure.core.credentials import AzureKeyCredential\n",
        "from azure.core.exceptions import ResourceExistsError, ResourceNotFoundError\n",
        "from azure.identity.aio import AzureCliCredential\n",
        "from azure.search.documents import SearchClient\n",
        "from azure.search.documents.indexes import SearchIndexClient\n",
        "from azure.search.documents.indexes.models import (\n",
        "    SearchIndex,\n",
        "    SearchFieldDataType,\n",
        "    SearchableField,\n",
        "    SimpleField,\n",
        ")\n",
        "\n",
        "\"\"\"\n",
        "Scenario summary:\n",
        "- Use Azure AI Search to fetch relevant snippets for a user question.\n",
        "- Feed those snippets into a hosted Azure AI agent that drafts the final answer.\n",
        "- Demonstrate how execution tasks and agent tasks cooperate inside WorkflowBuilder.\n",
        "\n",
        "Environment prerequisites (document these values in `.env.example`):\n",
        "- `AZURE_SEARCH_ENDPOINT`\n",
        "- `AZURE_SEARCH_API_KEY`\n",
        "- `AZURE_SEARCH_INDEX_NAME`\n",
        "- `AZURE_AI_PROJECT_NAME`, `AZURE_AI_AGENT_NAME` (or any additional settings required by Azure AI Agents service)\n",
        "\n",
        "Optional: set `SEED_SEARCH_INDEX=true` to load a small in-memory data set for quick demos.\n",
        "\"\"\"\n"
      ]
    },
    {
      "cell_type": "markdown",
      "id": "f2de08ae",
      "metadata": {},
      "source": [
        "### Step 2: Wrap Azure AI Search in a lightweight helper\n",
        "The helper below owns the Search clients, ensures the index schema exists, optionally seeds sample documents, and exposes a\n",
        "`get_retrieval_context` method that returns a newline-joined string of document excerpts.\n"
      ]
    },
    {
      "cell_type": "code",
      "execution_count": 13,
      "id": "b30b4f4c",
      "metadata": {},
      "outputs": [],
      "source": [
        "class AzureSearchRetriever:\n",
        "    \"\"\"Utility that manages index setup and fetches snippets using Azure AI Search.\"\"\"\n",
        "\n",
        "    def __init__(self, endpoint: str, api_key: str, index_name: str) -> None:\n",
        "        credential = AzureKeyCredential(api_key)\n",
        "        self.index_name = index_name\n",
        "        self.index_client = SearchIndexClient(endpoint=endpoint, credential=credential)\n",
        "        self.search_client = SearchClient(endpoint=endpoint, index_name=index_name, credential=credential)\n",
        "\n",
        "    def ensure_index(self) -> None:\n",
        "        \"\"\"Create the search index if it does not already exist.\"\"\"\n",
        "        fields = [\n",
        "            SimpleField(name=\"id\", type=SearchFieldDataType.String, key=True),\n",
        "            SearchableField(name=\"content\", type=SearchFieldDataType.String, searchable=True),\n",
        "        ]\n",
        "        index = SearchIndex(name=self.index_name, fields=fields)\n",
        "        try:\n",
        "            self.index_client.get_index(self.index_name)\n",
        "            return\n",
        "        except ResourceNotFoundError:\n",
        "            pass\n",
        "        try:\n",
        "            self.index_client.create_index(index)\n",
        "        except ResourceExistsError:\n",
        "            return\n",
        "\n",
        "    def seed_documents(self, documents: Iterable[Dict[str, Any]]) -> None:\n",
        "        \"\"\"Upload sample documents to make the demo self-contained.\n",
        "\n",
        "        Skip if the iterable is empty to avoid unnecessary service calls.\n",
        "        \"\"\"\n",
        "        docs = list(documents)\n",
        "        if not docs:\n",
        "            return\n",
        "        self.search_client.upload_documents(documents=docs)\n",
        "\n",
        "    def get_retrieval_context(self, query: str) -> str:\n",
        "        \"\"\"Run a simple full-text search and concatenate the snippets.\"\"\"\n",
        "        results = self.search_client.search(query)\n",
        "        context_strings: List[str] = []\n",
        "        for result in results:\n",
        "            context_strings.append(f\"Document: {result['content']}\")\n",
        "        return \"\".join(context_strings) if context_strings else \"No results found\"\n",
        "\n",
        "\n",
        "SAMPLE_DOCUMENTS: List[Dict[str, Any]] = [\n",
        "    {\"id\": \"1\", \"content\": \"Contoso Banking waives monthly fees for savings accounts with automated deposits.\"},\n",
        "    {\"id\": \"2\", \"content\": \"Customers can reach Contoso support 24/7 via chat, phone, or the mobile app.\"},\n",
        "    {\"id\": \"3\", \"content\": \"The rewards credit card includes travel insurance and zero foreign transaction fees.\"},\n",
        "]\n"
      ]
    },
    {
      "cell_type": "markdown",
      "id": "ee38ded1",
      "metadata": {},
      "source": [
        "### Step 3: Define the retrieval executor and prepare an Azure AI agent factory\n",
        "One executor asks Azure AI Search for context, and the hosted agent consumes a formatted string that includes both the context\n",
        "and the original question.\n"
      ]
    },
    {
      "cell_type": "code",
      "execution_count": 20,
      "id": "75395b68",
      "metadata": {},
      "outputs": [],
      "source": [
        "class RetrieveAzureSearchContext(Executor):\n",
        "    \"\"\"Fetch search results for the inbound query and forward context downstream.\"\"\"\n",
        "\n",
        "    def __init__(self, retriever: AzureSearchRetriever) -> None:\n",
        "        super().__init__(id=\"azure_ai_search_lookup\")\n",
        "        self.retriever = retriever\n",
        "\n",
        "    @handler\n",
        "    async def handle(self, query: str, ctx: WorkflowContext[str, str]) -> None:\n",
        "        context = self.retriever.get_retrieval_context(query)\n",
        "        prompt = (\n",
        "            \"You are given CONTEXT and a QUESTION. Use only the CONTEXT to answer.\"\n",
        "            \"If the CONTEXT says 'No results found', respond that the answer is unavailable.\"\n",
        "            f\"\"\"\n",
        "CONTEXT: {context}\n",
        "QUESTION: {query}\n",
        "ANSWER:\"\"\"\n",
        "        )\n",
        "        await ctx.send_message(prompt)\n",
        "\n",
        "\n",
        "async def create_azure_ai_agent() -> tuple[Callable[..., Awaitable[Any]], Callable[[], Awaitable[None]]]:\n",
        "    \"\"\"Helper method to create an Azure AI agent factory and a close function.\"\"\"\n",
        "    stack = AsyncExitStack()\n",
        "    cred = await stack.enter_async_context(AzureCliCredential())\n",
        "    client = await stack.enter_async_context(AzureAIAgentClient(async_credential=cred))\n",
        "\n",
        "    async def agent(**kwargs: Any) -> Any:\n",
        "        return await stack.enter_async_context(client.create_agent(**kwargs))\n",
        "\n",
        "    async def close() -> None:\n",
        "        await stack.aclose()\n",
        "\n",
        "    return agent, close\n",
        "\n",
        "\n",
        "def build_search_workflow(\n",
        "    retriever: AzureSearchRetriever,\n",
        "    answer_agent: Any,\n",
        ") -> Any:\n",
        "    \"\"\"Construct the workflow that runs retrieval then routes to the Azure AI agent.\"\"\"\n",
        "    retrieve = RetrieveAzureSearchContext(retriever)\n",
        "    return (\n",
        "        WorkflowBuilder()\n",
        "        .set_start_executor(retrieve)\n",
        "        .add_edge(retrieve, answer_agent)\n",
        "        .build()\n",
        "    )\n"
      ]
    },
    {
      "cell_type": "markdown",
      "id": "7b74ec61",
      "metadata": {},
      "source": [
        "### Step 4: Bootstrap everything, optionally seed the index, and stream the workflow output\n",
        "The cell below wires the helper objects together. It uses `run_stream()` so you can watch the agent respond token-by-token.\n"
      ]
    },
    {
      "cell_type": "code",
      "execution_count": 21,
      "id": "f6e9f9db",
      "metadata": {},
      "outputs": [],
      "source": [
        "async def main() -> None:\n",
        "    \"\"\"Instantiate clients, build the workflow, and execute a sample query.\"\"\"\n",
        "    search_endpoint = os.environ.get(\"AZURE_SEARCH_ENDPOINT\")\n",
        "    search_api_key = os.environ.get(\"AZURE_SEARCH_API_KEY\")\n",
        "    index_name = os.environ.get(\"AZURE_SEARCH_INDEX_NAME\")\n",
        "\n",
        "    if not all([search_endpoint, search_api_key, index_name]):\n",
        "        raise RuntimeError(\"Missing Azure AI Search configuration. Check .env settings.\")\n",
        "\n",
        "    agent_factory, close = await create_azure_ai_agent()\n",
        "    try:\n",
        "        retriever = AzureSearchRetriever(\n",
        "            endpoint=search_endpoint,\n",
        "            api_key=search_api_key,\n",
        "            index_name=index_name,\n",
        "        )\n",
        "        retriever.ensure_index()\n",
        "\n",
        "        if os.environ.get(\"SEED_SEARCH_INDEX\", \"false\").lower() in {\"1\", \"true\", \"yes\"}:\n",
        "            retriever.seed_documents(SAMPLE_DOCUMENTS)\n",
        "\n",
        "        answer_agent = await agent_factory(\n",
        "            name=\"BankingSearchResponder\",\n",
        "            instructions=(\n",
        "                \"You answer customer banking questions and only cite information present in the CONTEXT you receive.\"\n",
        "                \"Respond in 2-3 sentences and avoid inventing details.\"\n",
        "            ),\n",
        "        )\n",
        "\n",
        "        workflow = build_search_workflow(retriever, answer_agent)\n",
        "\n",
        "        last_executor_id: Optional[str] = None\n",
        "        events = workflow.run_stream(\"What perks does the rewards credit card include?\")\n",
        "        async for event in events:\n",
        "            if isinstance(event, AgentRunUpdateEvent):\n",
        "                eid = event.executor_id\n",
        "                if eid != last_executor_id:\n",
        "                    if last_executor_id is not None:\n",
        "                        print()\n",
        "                    print(f\"{eid}:\", end=\" \", flush=True)\n",
        "                    last_executor_id = eid\n",
        "                print(event.data, end=\"\", flush=True)\n",
        "            elif isinstance(event, WorkflowOutputEvent):\n",
        "                print(\"===== Final output =====\")\n",
        "                print(event.data)\n",
        "    finally:\n",
        "        await close()\n"
      ]
    },
    {
      "cell_type": "markdown",
      "id": "6ea4c09d",
      "metadata": {},
      "source": [
        "!az login --tenant 16b3c013-d300-468d-ac64-7eda0820b6d3"
      ]
    },
    {
      "cell_type": "code",
      "execution_count": 25,
      "id": "26053027",
      "metadata": {},
      "outputs": [
        {
          "name": "stdout",
          "output_type": "stream",
          "text": [
            "BankingSearchResponder: The rewards credit card includes travel insurance and zero foreign transaction fees.===== Final output =====\n",
            "The rewards credit card includes travel insurance and zero foreign transaction fees.\n"
          ]
        }
      ],
      "source": [
        "import asyncio\n",
        "\n",
        "# Helper for notebooks vs. scripts\n",
        "loop = asyncio.get_event_loop()\n",
        "if loop.is_running():\n",
        "    await main()\n",
        "else:\n",
        "    asyncio.run(main())\n"
      ]
    },
    {
      "cell_type": "code",
      "execution_count": null,
      "id": "c986f0ba",
      "metadata": {},
      "outputs": [],
      "source": []
    }
  ],
  "metadata": {
    "kernelspec": {
      "display_name": "oai",
      "language": "python",
      "name": "python3"
    },
    "language_info": {
      "codemirror_mode": {
        "name": "ipython",
        "version": 3
      },
      "file_extension": ".py",
      "mimetype": "text/x-python",
      "name": "python",
      "nbconvert_exporter": "python",
      "pygments_lexer": "ipython3",
      "version": "3.12.9"
    }
  },
  "nbformat": 4,
  "nbformat_minor": 5
}
