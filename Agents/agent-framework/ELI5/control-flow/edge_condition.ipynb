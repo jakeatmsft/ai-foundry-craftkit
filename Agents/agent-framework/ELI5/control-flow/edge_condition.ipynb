{
 "cells": [
  {
   "cell_type": "markdown",
   "metadata": {},
   "source": [
    "# edge_condition.py \u2014 ELI5 Walkthrough\n",
    "This notebook gives a super-friendly tour of `python/samples/getting_started/workflows/control-flow/edge_condition.py` from the Agent Framework samples.\n"
   ]
  },
  {
   "cell_type": "markdown",
   "metadata": {},
   "source": [
    "## Big Picture\n",
    "Imagine an office mailroom assistant who checks each email, decides whether it's spam, and either throws it away or drafts a friendly reply for you. The script builds exactly that mailroom as an **Agent Framework workflow** powered by Azure OpenAI agents.\n",
    "\n",
    "We will walk through the cast of characters, the decision logic, and the workflow wiring so you can see how the pieces click together, no matter your background.\n"
   ]
  },
  {
   "cell_type": "markdown",
   "metadata": {},
   "source": [
    "## Key Ingredients\n",
    "- **Agents & Executors** \u2013 Mini workers powered by Azure OpenAI. Executors wrap them so the workflow engine can run them.\n",
    "- **WorkflowBuilder** \u2013 LEGO blocks that connect executors and describe how messages move.\n",
    "- **Structured Outputs** \u2013 Pydantic models (`DetectionResult`, `EmailResponse`) guarantee the AI sends well-formed JSON instead of messy text.\n",
    "- **Edge Conditions** \u2013 Tiny yes/no checks that decide which path the message takes next.\n",
    "- **Azure Identity** \u2013 `AzureCliCredential` reuses your `az login` so you do not hard-code secrets.\n"
   ]
  },
  {
   "cell_type": "markdown",
   "metadata": {},
   "source": [
    "### Workflow Diagram\n",
    "```mermaid\n",
    "flowchart LR\n",
    "    Start([\"Incoming Email\"]) --> Spam[[spam_detection_agent]]\n",
    "    Spam -- \"is_spam == False\" --> Transform[[to_email_assistant_request]]\n",
    "    Transform --> Assistant[[email_assistant_agent]]\n",
    "    Assistant --> Respond[[handle_email_response]]\n",
    "    Spam -- \"is_spam == True\" --> Flag[[handle_spam_classifier_response]]\n",
    "```\n"
   ]
  },
  {
   "cell_type": "code",
   "execution_count": null,
   "metadata": {},
   "outputs": [],
   "source": [
    "import asyncio\n",
    "from typing import Any\n",
    "\n",
    "from agent_framework import (\n",
    "    AgentExecutor,\n",
    "    AgentExecutorRequest,\n",
    "    AgentExecutorResponse,\n",
    "    ChatMessage,\n",
    "    Role,\n",
    "    WorkflowBuilder,\n",
    "    WorkflowContext,\n",
    "    executor,\n",
    ")\n",
    "from agent_framework.azure import AzureOpenAIChatClient\n",
    "from azure.identity import AzureCliCredential\n",
    "from dotenv import load_dotenv\n",
    "from pydantic import BaseModel\n",
    "from typing_extensions import Never\n",
    "\n",
    "load_dotenv()\n",
    "\n",
    "\n",
    "class DetectionResult(BaseModel):\n",
    "    \"\"\"Represents the result of spam detection.\"\"\"\n",
    "\n",
    "    is_spam: bool\n",
    "    reason: str\n",
    "    email_content: str\n",
    "\n",
    "\n",
    "class EmailResponse(BaseModel):\n",
    "    \"\"\"Represents the response from the email assistant.\"\"\"\n",
    "\n",
    "    response: str\n",
    "\n",
    "\n",
    "def get_condition(expected_result: bool):\n",
    "    \"\"\"Create a condition callable that routes based on DetectionResult.is_spam.\"\"\"\n",
    "\n",
    "    def condition(message: Any) -> bool:\n",
    "        if not isinstance(message, AgentExecutorResponse):\n",
    "            return True\n",
    "        try:\n",
    "            detection = DetectionResult.model_validate_json(message.agent_run_response.text)\n",
    "            return detection.is_spam == expected_result\n",
    "        except Exception:\n",
    "            return False\n",
    "\n",
    "    return condition\n",
    "\n",
    "\n",
    "@executor(id=\"send_email\")\n",
    "async def handle_email_response(response: AgentExecutorResponse, ctx: WorkflowContext[Never, str]) -> None:\n",
    "    email_response = EmailResponse.model_validate_json(response.agent_run_response.text)\n",
    "    await ctx.yield_output(f\"Email sent:\\n{email_response.response}\")\n",
    "\n",
    "\n",
    "@executor(id=\"handle_spam\")\n",
    "async def handle_spam_classifier_response(response: AgentExecutorResponse, ctx: WorkflowContext[Never, str]) -> None:\n",
    "    detection = DetectionResult.model_validate_json(response.agent_run_response.text)\n",
    "    if detection.is_spam:\n",
    "        await ctx.yield_output(f\"Email marked as spam: {detection.reason}\")\n",
    "    else:\n",
    "        raise RuntimeError(\"This executor should only handle spam messages.\")\n",
    "\n",
    "\n",
    "@executor(id=\"to_email_assistant_request\")\n",
    "async def to_email_assistant_request(\n",
    "    response: AgentExecutorResponse, ctx: WorkflowContext[AgentExecutorRequest]\n",
    ") -> None:\n",
    "    detection = DetectionResult.model_validate_json(response.agent_run_response.text)\n",
    "    user_msg = ChatMessage(Role.USER, text=detection.email_content)\n",
    "    await ctx.send_message(AgentExecutorRequest(messages=[user_msg], should_respond=True))\n",
    "\n",
    "\n",
    "def build_workflow(chat_client: AzureOpenAIChatClient):\n",
    "    spam_detection_agent = AgentExecutor(\n",
    "        chat_client.create_agent(\n",
    "            instructions=(\n",
    "                \"You are a spam detection assistant that identifies spam emails. \"\n",
    "                \"Always return JSON with fields is_spam (bool), reason (string), and email_content (string). \"\n",
    "                \"Include the original email content in email_content.\"\n",
    "            ),\n",
    "            response_format=DetectionResult,\n",
    "        ),\n",
    "        id=\"spam_detection_agent\",\n",
    "    )\n",
    "    email_assistant_agent = AgentExecutor(\n",
    "        chat_client.create_agent(\n",
    "            instructions=(\n",
    "                \"You are an email assistant that helps users draft professional responses to emails. \"\n",
    "                \"Your input may be a JSON object that includes 'email_content'; base your reply on that content. \"\n",
    "                \"Return JSON with a single field 'response' containing the drafted reply.\"\n",
    "            ),\n",
    "            response_format=EmailResponse,\n",
    "        ),\n",
    "        id=\"email_assistant_agent\",\n",
    "    )\n",
    "    builder = (\n",
    "        WorkflowBuilder()\n",
    "        .set_start_executor(spam_detection_agent)\n",
    "        .add_edge(spam_detection_agent, to_email_assistant_request, condition=get_condition(False))\n",
    "        .add_edge(to_email_assistant_request, email_assistant_agent)\n",
    "        .add_edge(email_assistant_agent, handle_email_response)\n",
    "        .add_edge(spam_detection_agent, handle_spam_classifier_response, condition=get_condition(True))\n",
    "    )\n",
    "    return builder.build()\n",
    "\n",
    "\n",
    "async def run_email_workflow(email_text: str):\n",
    "    chat_client = AzureOpenAIChatClient(credential=AzureCliCredential())\n",
    "    workflow = build_workflow(chat_client)\n",
    "    request = AgentExecutorRequest(\n",
    "        messages=[ChatMessage(Role.USER, text=email_text)],\n",
    "        should_respond=True,\n",
    "    )\n",
    "    events = await workflow.run(request)\n",
    "    return events.get_outputs()\n",
    "\n",
    "\n",
    "SAMPLE_EMAILS = {\n",
    "    \"Team follow-up\": \"\"\"Subject: Team Meeting Follow-up - Action Items\n\nHi Sarah,\n\nI wanted to follow up on our team meeting this morning and share the action items we discussed:\n\n1. Update the project timeline by Friday\n2. Schedule client presentation for next week\n3. Review the budget allocation for Q4\n\nPlease let me know if you have any questions or if I missed anything from our discussion.\n\nBest regards,\nAlex Johnson\nProject Manager\nTech Solutions Inc.\nalex.johnson@techsolutions.com\n(555) 123-4567\"\"\",\n",
    "    \"Obvious spam\": \"\"\"Subject: \ud83c\udf89 CONGRATULATIONS! You've WON $1,000,000 - CLAIM NOW! \ud83c\udf89\n\nDear Valued Customer,\n\nURGENT NOTICE: You have been selected as our GRAND PRIZE WINNER!\n\n\ud83c\udfc6 YOU HAVE WON $1,000,000 USD \ud83c\udfc6\n\nThis is NOT a joke! You are one of only 5 lucky winners selected from millions of email addresses worldwide.\n\nTo claim your prize, you MUST respond within 24 HOURS or your winnings will be forfeited!\n\nCLICK HERE NOW: http://win-claim.com\n\nWhat you need to do:\n1. Reply with your full name\n2. Provide your bank account details\n3. Send a processing fee of $500 via wire transfer\n\nACT FAST! This offer expires TONIGHT at midnight!\n\nBest regards,\nDr. Johnson Williams\nInternational Lottery Commission\nPhone: +1-555-999-1234\"\"\",\n",
    "    \"Ambiguous\": \"\"\"Subject: Action Required: Verify Your Account\n\nDear Valued Customer,\n\nWe have detected unusual activity on your account and need to verify your identity to ensure your security.\n\nTo maintain access to your account, please login to your account and complete the verification process.\n\nAccount Details:\n- User: johndoe@contoso.com\n- Last Login: 08/15/2025\n- Location: Seattle, WA\n- Device: Mobile\n\nThis is an automated security measure. If you believe this email was sent in error, please contact our support team immediately.\n\nBest regards,\nSecurity Team\nCustomer Service Department\"\"\",\n",
    "}\n"
   ]
  },
  {
   "cell_type": "markdown",
   "metadata": {},
   "source": [
    "## The Data Shapes",
    "",
    "Two Pydantic models describe the language that agents speak:",
    "",
    "- `DetectionResult` \u2192 `{ \"is_spam\": bool, \"reason\": str, \"email_content\": str }`",
    "  - Tells us if the email is spam, why, and includes the original email text for reuse.",
    "- `EmailResponse` \u2192 `{ \"response\": str }`",
    "  - Holds the drafted reply that the assistant writes when the email is legitimate.",
    "",
    "With strict schemas, malformed AI output raises an error early instead of silently breaking the workflow."
   ]
  },
  {
   "cell_type": "code",
   "metadata": {
    "tags": [
     "demo"
    ]
   },
   "execution_count": null,
   "outputs": [],
   "source": [
    "import json\n",
    "from pprint import pprint\n",
    "\n",
    "sample = {\"is_spam\": False, \"reason\": \"Looks like a real teammate\", \"email_content\": \"Hello there!\"}\n",
    "parsed = DetectionResult.model_validate_json(json.dumps(sample))\n",
    "pprint(parsed.model_dump())\n"
   ]
  },
  {
   "cell_type": "markdown",
   "metadata": {},
   "source": [
    "The snippet above mimics a spam detector response. `model_validate_json` keeps the workflow honest by rejecting anything that does not match `DetectionResult`."
   ]
  },
  {
   "cell_type": "markdown",
   "metadata": {},
   "source": [
    "## The Decision Gate (`get_condition`)",
    "",
    "`get_condition(expected_result)` builds a tiny function that checks the last agent response:",
    "",
    "1. If the message is not an `AgentExecutorResponse`, let it pass (to avoid dead ends).",
    "2. Otherwise, parse the JSON into `DetectionResult`.",
    "3. Compare `is_spam` with the expected value.",
    "   - `True` \u2192 follow the spam route.",
    "   - `False` \u2192 follow the helpful reply route.",
    "4. Parsing failures return `False`, so the workflow errs on the side of *not* taking that edge.",
    "",
    "This is how the workflow makes a left or right turn without peppering the rest of the code with `if` statements."
   ]
  },
  {
   "cell_type": "code",
   "metadata": {
    "tags": [
     "demo"
    ]
   },
   "execution_count": null,
   "outputs": [],
   "source": [
    "import json\n",
    "from types import SimpleNamespace\n",
    "\n",
    "payload = {\"is_spam\": True, \"reason\": \"Suspicious giveaway\", \"email_content\": \"You won!\"}\n",
    "mock_response = AgentExecutorResponse(\n",
    "    executor_id=\"spam_detection_agent\",\n",
    "    agent_run_response=SimpleNamespace(text=json.dumps(payload)),\n",
    ")\n",
    "spam_edge = get_condition(True)\n",
    "not_spam_edge = get_condition(False)\n",
    "spam_edge(mock_response), not_spam_edge(mock_response)\n"
   ]
  },
  {
   "cell_type": "markdown",
   "metadata": {},
   "source": [
    "## The Executors (Little Workers)",
    "",
    "- `spam_detection_agent` \u2013 Reads the email and returns a `DetectionResult` JSON blob.",
    "- `to_email_assistant_request` \u2013 Converts that JSON into a new user message for the assistant.",
    "- `email_assistant_agent` \u2013 Drafts a polite reply and returns an `EmailResponse` JSON object.",
    "- `handle_email_response` \u2013 Prints the drafted reply as the workflow output.",
    "- `handle_spam_classifier_response` \u2013 If marked spam, prints a short notice instead.",
    "",
    "Each executor is tiny and single-purpose, so the control flow stays easy to follow."
   ]
  },
  {
   "cell_type": "code",
   "metadata": {
    "tags": [
     "demo"
    ]
   },
   "execution_count": null,
   "outputs": [],
   "source": [
    "import asyncio\n",
    "import json\n",
    "from types import SimpleNamespace\n",
    "\n",
    "payload = {\"is_spam\": False, \"reason\": \"Legit teammate\", \"email_content\": \"Hi Sarah\"}\n",
    "mock_response = AgentExecutorResponse(\n",
    "    executor_id=\"spam_detection_agent\",\n",
    "    agent_run_response=SimpleNamespace(text=json.dumps(payload)),\n",
    ")\n",
    "captured_requests = []\n",
    "\n",
    "async def capture(message):\n",
    "    captured_requests.append(message)\n",
    "\n",
    "mock_ctx = SimpleNamespace(send_message=capture)\n",
    "\n",
    "async def demo():\n",
    "    await to_email_assistant_request(mock_response, mock_ctx)\n",
    "\n",
    "await demo()\n",
    "captured_requests[0]\n"
   ]
  },
  {
   "cell_type": "markdown",
   "metadata": {},
   "source": [
    "## Wiring the Workflow",
    "",
    "Here is the decision tree in Python data form. Only one branch (spam vs. not spam) fires for each email."
   ]
  },
  {
   "cell_type": "code",
   "metadata": {
    "tags": [
     "demo"
    ]
   },
   "execution_count": null,
   "outputs": [],
   "source": [
    "[\n",
    "    (\"spam_detection_agent\", \"to_email_assistant_request\", \"is_spam == False\"),\n",
    "    (\"to_email_assistant_request\", \"email_assistant_agent\", \"always\"),\n",
    "    (\"email_assistant_agent\", \"handle_email_response\", \"always\"),\n",
    "    (\"spam_detection_agent\", \"handle_spam_classifier_response\", \"is_spam == True\"),\n",
    "]\n"
   ]
  },
  {
   "cell_type": "markdown",
   "metadata": {},
   "source": [
    "## What `main()` Does\n",
    "1. Logs in to Azure OpenAI using your CLI credentials.\n",
    "2. Creates agents with the instructions and structured response formats shown above.\n",
    "3. Builds the workflow graph with conditional edges for spam vs. non-spam routes.\n",
    "4. Pulls a sample email from `SAMPLE_EMAILS` so the run stays self-contained.\n",
    "5. Wraps the email in an `AgentExecutorRequest` and runs the workflow.\n",
    "6. Prints either the drafted reply or a spam warning.\n",
    "Because everything is asynchronous, `asyncio.run(main())` in the script kicks off the process when you run it as a module.\n"
   ]
  },
  {
   "cell_type": "markdown",
   "metadata": {},
   "source": [
    "## Try It Out With Sample Emails\n",
    "The loop below iterates over the inline `SAMPLE_EMAILS` dictionary and runs the workflow for each one.\n",
    "This uses the real agents defined in the script, so make sure your Azure OpenAI environment is configured.\n"
   ]
  },
  {
   "cell_type": "code",
   "metadata": {
    "tags": [
     "run"
    ]
   },
   "execution_count": null,
   "outputs": [],
   "source": [
    "import asyncio\n",
    "\n",
    "# Helper for notebooks vs. scripts\n",
    "loop = asyncio.get_event_loop()\n",
    "if loop.is_running():\n",
    "    # Jupyter/VS Code notebooks already have an event loop, so await directly.\n",
    "    await main()\n",
    "else:\n",
    "    asyncio.run(main())\n"
   ]
  },
  {
   "cell_type": "markdown",
   "metadata": {},
   "source": [
    "## Takeaways",
    "",
    "- **Structured outputs** keep AI responses predictable and make conditional routing safe.",
    "- **Edge conditions** are reusable predicates that keep the workflow diagram tidy.",
    "- **Executors** act like small adapters that isolate responsibilities (detect spam, translate, respond, print outcome).",
    "- You can extend the pattern with new branches (\"urgent\", \"needs manager\", etc.) by adding more predicates and executors.",
    "",
    "Treat Agent Framework workflows like flowcharts of reliable little workers passing structured messages along the line."
   ]
  }
 ],
 "metadata": {
  "kernelspec": {
   "display_name": "Python 3",
   "language": "python",
   "name": "python3"
  },
  "language_info": {
   "name": "python",
   "version": "3.10"
  }
 },
 "nbformat": 4,
 "nbformat_minor": 5
}
