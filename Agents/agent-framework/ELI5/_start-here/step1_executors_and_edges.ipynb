{
 "cells": [
  {
   "cell_type": "markdown",
   "metadata": {},
   "source": [
    "# step1_executors_and_edges.py - ELI5 Walkthrough\n",
    "This notebook recreates `python/samples/getting_started/workflows/_start-here/step1_executors_and_edges.py` so you can see each building block in context.\n"
   ]
  },
  {
   "cell_type": "markdown",
   "metadata": {},
   "source": [
    "## Big Picture\n",
    "Connect two workflow executors: one uppercases text, the other reverses it and yields the final output. Along the way you learn how handlers work and how `WorkflowBuilder` wires nodes together.\n"
   ]
  },
  {
   "cell_type": "markdown",
   "metadata": {},
   "source": [
    "## Key Ingredients\n",
    "- `Executor` subclasses expose async handlers decorated with `@handler`.\n",
    "- `@executor` turns a standalone function into a node.\n",
    "- `WorkflowBuilder` creates a graph and its `run()` call collects yielded outputs.\n"
   ]
  },
  {
   "cell_type": "markdown",
   "metadata": {},
   "source": [
    "### Workflow Diagram\n",
    "```mermaid\n",
    "flowchart LR\n",
    "    Start([\"Input Text\"]) --> Upper[[UpperCase Executor]]\n",
    "    Upper --> Reverse[[reverse_text executor]]\n",
    "    Reverse --> Output([\"Workflow Output\"])\n",
    "```\n"
   ]
  },
  {
   "cell_type": "markdown",
   "metadata": {},
   "source": [
    "### Step 1: Load dependencies and read the docstring\n",
    "We import Agent Framework primitives, configure dotenv, and keep the in-file explanation of executors and edges.\n"
   ]
  },
  {
   "cell_type": "code",
   "execution_count": null,
   "metadata": {},
   "outputs": [],
   "source": [
    "# Copyright (c) Microsoft. All rights reserved.\n",
    "from dotenv import load_dotenv\n",
    "load_dotenv()\n",
    "\n",
    "import asyncio\n",
    "\n",
    "from agent_framework import (\n",
    "    Executor,\n",
    "    WorkflowBuilder,\n",
    "    WorkflowContext,\n",
    "    executor,\n",
    "    handler,\n",
    ")\n",
    "from typing_extensions import Never\n",
    "\n",
    "\"\"\"\n",
    "Step 1: Foundational patterns: Executors and edges\n",
    "\n",
    "What this example shows\n",
    "- Two ways to define a unit of work (an Executor node):\n",
    "    1) Custom class that subclasses Executor with an async method marked by @handler.\n",
    "         Possible handler signatures:\n",
    "            - (text: str, ctx: WorkflowContext) -> None,\n",
    "            - (text: str, ctx: WorkflowContext[str]) -> None, or\n",
    "            - (text: str, ctx: WorkflowContext[Never, str]) -> None.\n",
    "         The first parameter is the typed input to this node, the input type is str here.\n",
    "         The second parameter is a WorkflowContext[T_Out, T_W_Out].\n",
    "         WorkflowContext[T_Out] is used for nodes that send messages to downstream nodes with ctx.send_message(T_Out).\n",
    "         WorkflowContext[T_Out, T_W_Out] is used for nodes that also yield workflow\n",
    "            output with ctx.yield_output(T_W_Out).\n",
    "         WorkflowContext without type parameters is equivalent to WorkflowContext[Never, Never], meaning this node\n",
    "            neither sends messages to downstream nodes nor yields workflow output.\n",
    "\n",
    "    2) Standalone async function decorated with @executor using the same signature.\n",
    "         Simple steps can use this form; a terminal step can yield output\n",
    "         using ctx.yield_output() to provide workflow results.\n",
    "\n",
    "- Fluent WorkflowBuilder API:\n",
    "    add_edge(A, B) to connect nodes, set_start_executor(A), then build() -> Workflow.\n",
    "\n",
    "- Running and results:\n",
    "    workflow.run(initial_input) executes the graph. Terminal nodes yield\n",
    "    outputs using ctx.yield_output(). The workflow runs until idle.\n",
    "\n",
    "Prerequisites\n",
    "- No external services required.\n",
    "\"\"\"\n",
    "\n",
    "\n",
    "# Example 1: A custom Executor subclass\n",
    "# ------------------------------------\n",
    "#\n",
    "# Subclassing Executor lets you define a named node with lifecycle hooks if needed.\n",
    "# The work itself is implemented in an async method decorated with @handler.\n",
    "#\n",
    "# Handler signature contract:\n",
    "# - First parameter is the typed input to this node (here: text: str)\n",
    "# - Second parameter is a WorkflowContext[T_Out], where T_Out is the type of data this\n",
    "#   node will emit via ctx.send_message (here: T_Out is str)\n",
    "#\n",
    "# Within a handler you typically:\n",
    "# - Compute a result\n",
    "# - Forward that result to downstream node(s) using ctx.send_message(result)\n"
   ]
  },
  {
   "cell_type": "markdown",
   "metadata": {},
   "source": [
    "### Step 2: Build a custom `Executor` subclass\n",
    "`UpperCase` shows how to accept typed input via `WorkflowContext[str]` and forward results downstream.\n"
   ]
  },
  {
   "cell_type": "code",
   "execution_count": null,
   "metadata": {},
   "outputs": [],
   "source": [
    "class UpperCase(Executor):\n",
    "    def __init__(self, id: str):\n",
    "        super().__init__(id=id)\n",
    "\n",
    "    @handler\n",
    "    async def to_upper_case(self, text: str, ctx: WorkflowContext[str]) -> None:\n",
    "        \"\"\"Convert the input to uppercase and forward it to the next node.\n",
    "\n",
    "        Note: The WorkflowContext is parameterized with the type this handler will\n",
    "        emit. Here WorkflowContext[str] means downstream nodes should expect str.\n",
    "        \"\"\"\n",
    "        result = text.upper()\n",
    "\n",
    "        # Send the result to the next executor in the workflow.\n",
    "        await ctx.send_message(result)\n",
    "\n",
    "\n",
    "# Example 2: A standalone function-based executor\n",
    "# -----------------------------------------------\n",
    "#\n",
    "# For simple steps you can skip subclassing and define an async function with the\n",
    "# same signature pattern (typed input + WorkflowContext[T_Out, T_W_Out]) and decorate it with\n",
    "# @executor. This creates a fully functional node that can be wired into a flow.\n",
    "\n",
    "\n"
   ]
  },
  {
   "cell_type": "markdown",
   "metadata": {},
   "source": [
    "### Step 3: Add a function-based executor\n",
    "Decorating an async function with `@executor` gives you a node that can yield workflow outputs without managing class boilerplate.\n"
   ]
  },
  {
   "cell_type": "code",
   "execution_count": null,
   "metadata": {},
   "outputs": [],
   "source": [
    "@executor(id=\"reverse_text_executor\")\n",
    "async def reverse_text(text: str, ctx: WorkflowContext[Never, str]) -> None:\n",
    "    \"\"\"Reverse the input string and yield the workflow output.\n",
    "\n",
    "    This node yields the final output using ctx.yield_output(result).\n",
    "    The workflow will complete when it becomes idle (no more work to do).\n",
    "\n",
    "    The WorkflowContext is parameterized with two types:\n",
    "    - T_Out = Never: this node does not send messages to downstream nodes.\n",
    "    - T_W_Out = str: this node yields workflow output of type str.\n",
    "    \"\"\"\n",
    "    result = text[::-1]\n",
    "\n",
    "    # Yield the output - the workflow will complete when idle\n",
    "    await ctx.yield_output(result)\n",
    "\n",
    "\n"
   ]
  },
  {
   "cell_type": "markdown",
   "metadata": {},
   "source": [
    "### Step 4: Wire the workflow and run it\n",
    "`main()` builds the graph, runs it with sample input, and prints the outputs plus final state.\n"
   ]
  },
  {
   "cell_type": "code",
   "execution_count": null,
   "metadata": {},
   "outputs": [],
   "source": [
    "async def main():\n",
    "    \"\"\"Build and run a simple 2-step workflow using the fluent builder API.\"\"\"\n",
    "\n",
    "    upper_case = UpperCase(id=\"upper_case_executor\")\n",
    "\n",
    "    # Build the workflow using a fluent pattern:\n",
    "    # 1) add_edge(from_node, to_node) defines a directed edge upper_case -> reverse_text\n",
    "    # 2) set_start_executor(node) declares the entry point\n",
    "    # 3) build() finalizes and returns an immutable Workflow object\n",
    "    workflow = WorkflowBuilder().add_edge(upper_case, reverse_text).set_start_executor(upper_case).build()\n",
    "\n",
    "    # Run the workflow by sending the initial message to the start node.\n",
    "    # The run(...) call returns an event collection; its get_outputs() method\n",
    "    # retrieves the outputs yielded by any terminal nodes.\n",
    "    events = await workflow.run(\"hello world\")\n",
    "    print(events.get_outputs())\n",
    "    # Summarize the final run state (e.g., COMPLETED)\n",
    "    print(\"Final state:\", events.get_final_state())\n",
    "\n",
    "    \"\"\"\n",
    "    Sample Output:\n",
    "\n",
    "    ['DLROW OLLEH']\n",
    "    Final state: WorkflowRunState.COMPLETED\n",
    "    \"\"\"\n",
    "\n",
    "\n"
   ]
  },
  {
   "cell_type": "markdown",
   "metadata": {},
   "source": [
    "### Step 5: Try it yourself\n",
    "Use the helper below. In notebooks it awaits `main()` on the active loop; in scripts it falls back to `asyncio.run(main())`.\n"
   ]
  },
  {
   "cell_type": "code",
   "execution_count": null,
   "metadata": {},
   "outputs": [],
   "source": [
    "import asyncio\n",
    "\n",
    "# Helper for notebooks vs. scripts\n",
    "loop = asyncio.get_event_loop()\n",
    "if loop.is_running():\n",
    "    # Jupyter/VS Code notebooks already have an event loop, so await directly.\n",
    "    await main()\n",
    "else:\n",
    "    asyncio.run(main())\n"
   ]
  }
 ],
 "metadata": {
  "kernelspec": {
   "display_name": "Python 3",
   "language": "python",
   "name": "python3"
  },
  "language_info": {
   "name": "python"
  }
 },
 "nbformat": 4,
 "nbformat_minor": 5
}
