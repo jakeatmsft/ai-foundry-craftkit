{
 "cells": [
  {
   "cell_type": "markdown",
   "metadata": {},
   "source": [
    "# step2_agents_in_a_workflow.py - ELI5 Walkthrough\n",
    "This notebook mirrors `python/samples/getting_started/workflows/_start-here/step2_agents_in_a_workflow.py` with commentary between each block.\n"
   ]
  },
  {
   "cell_type": "markdown",
   "metadata": {},
   "source": [
    "## Big Picture\n",
    "A Writer agent drafts a slogan, then a Reviewer agent critiques it. The workflow simply connects the two and prints what each agent says along with the final output list.\n"
   ]
  },
  {
   "cell_type": "markdown",
   "metadata": {},
   "source": [
    "## Key Ingredients\n",
    "- Azure-hosted chat agents created via `AzureOpenAIChatClient`.\n",
    "- `WorkflowBuilder` wiring without custom executors\u2014agents themselves can act as nodes.\n",
    "- Event iteration over `AgentRunEvent` objects to display intermediate agent messages.\n"
   ]
  },
  {
   "cell_type": "markdown",
   "metadata": {},
   "source": [
    "### Workflow Diagram\n",
    "```mermaid\n",
    "flowchart LR\n",
    "    Start([\"User Prompt\"]) --> Writer[[Writer Agent]]\n",
    "    Writer --> Reviewer[[Reviewer Agent]]\n",
    "    Reviewer --> Output([\"Workflow Outputs\"])\n",
    "```\n"
   ]
  },
  {
   "cell_type": "markdown",
   "metadata": {},
   "source": [
    "### Step 1: Imports and scenario overview\n",
    "Load dotenv, asyncio, and the Agent Framework pieces, then keep the docstring that explains why two agents are wired together.\n"
   ]
  },
  {
   "cell_type": "code",
   "execution_count": null,
   "metadata": {},
   "outputs": [],
   "source": [
    "# Copyright (c) Microsoft. All rights reserved.\n",
    "\n",
    "import asyncio\n",
    "\n",
    "from agent_framework import AgentRunEvent, WorkflowBuilder\n",
    "from agent_framework.azure import AzureOpenAIChatClient\n",
    "from azure.identity import AzureCliCredential\n",
    "from dotenv import load_dotenv\n",
    "load_dotenv()\n",
    "\n",
    "\"\"\"\n",
    "Step 2: Agents in a Workflow non-streaming\n",
    "\n",
    "This sample uses two custom executors. A Writer agent creates or edits content,\n",
    "then hands the conversation to a Reviewer agent which evaluates and finalizes the result.\n",
    "\n",
    "Purpose:\n",
    "Show how to wrap chat agents created by AzureOpenAIChatClient inside workflow executors. Demonstrate how agents\n",
    "automatically yield outputs when they complete, removing the need for explicit completion events.\n",
    "The workflow completes when it becomes idle.\n",
    "\n",
    "Prerequisites:\n",
    "- Azure OpenAI configured for AzureOpenAIChatClient with required environment variables.\n",
    "- Authentication via azure-identity. Use AzureCliCredential and run az login before executing the sample.\n",
    "- Basic familiarity with WorkflowBuilder, executors, edges, events, and streaming or non streaming runs.\n",
    "\"\"\"\n",
    "\n",
    "\n"
   ]
  },
  {
   "cell_type": "markdown",
   "metadata": {},
   "source": [
    "### Step 2: Build and run the agent workflow\n",
    "`main()` spins up writer/reviewer agents, builds the graph, runs it once, and prints both agent events and the collected outputs.\n"
   ]
  },
  {
   "cell_type": "code",
   "execution_count": null,
   "metadata": {},
   "outputs": [],
   "source": [
    "async def main():\n",
    "    \"\"\"Build and run a simple two node agent workflow: Writer then Reviewer.\"\"\"\n",
    "    # Create the Azure chat client. AzureCliCredential uses your current az login.\n",
    "    chat_client = AzureOpenAIChatClient(credential=AzureCliCredential())\n",
    "    writer_agent = chat_client.create_agent(\n",
    "        instructions=(\n",
    "            \"You are an excellent content writer. You create new content and edit contents based on the feedback.\"\n",
    "        ),\n",
    "        name=\"writer\",\n",
    "    )\n",
    "\n",
    "    reviewer_agent = chat_client.create_agent(\n",
    "        instructions=(\n",
    "            \"You are an excellent content reviewer.\"\n",
    "            \"Provide actionable feedback to the writer about the provided content.\"\n",
    "            \"Provide the feedback in the most concise manner possible.\"\n",
    "        ),\n",
    "        name=\"reviewer\",\n",
    "    )\n",
    "\n",
    "    # Build the workflow using the fluent builder.\n",
    "    # Set the start node and connect an edge from writer to reviewer.\n",
    "    workflow = WorkflowBuilder().set_start_executor(writer_agent).add_edge(writer_agent, reviewer_agent).build()\n",
    "\n",
    "    # Run the workflow with the user's initial message.\n",
    "    # For foundational clarity, use run (non streaming) and print the terminal event.\n",
    "    events = await workflow.run(\"Create a slogan for a new electric SUV that is affordable and fun to drive.\")\n",
    "    # Print agent run events and final outputs\n",
    "    for event in events:\n",
    "        if isinstance(event, AgentRunEvent):\n",
    "            print(f\"{event.executor_id}: {event.data}\")\n",
    "\n",
    "    print(f\"{'=' * 60}\\nWorkflow Outputs: {events.get_outputs()}\")\n",
    "    # Summarize the final run state (e.g., COMPLETED)\n",
    "    print(\"Final state:\", events.get_final_state())\n",
    "\n",
    "    \"\"\"\n",
    "    Sample Output:\n",
    "\n",
    "    writer: \"Charge Up Your Adventure\u2014Affordable Fun, Electrified!\"\n",
    "    reviewer: Slogan: \"Plug Into Fun\u2014Affordable Adventure, Electrified.\"\n",
    "\n",
    "    **Feedback:**\n",
    "    - Clear focus on affordability and enjoyment.\n",
    "    - \"Plug into fun\" connects emotionally and highlights electric nature.\n",
    "    - Consider specifying \"SUV\" for clarity in some uses.\n",
    "    - Strong, upbeat tone suitable for marketing.\n",
    "    ============================================================\n",
    "    Workflow Outputs: ['Slogan: \"Plug Into Fun\u2014Affordable Adventure, Electrified.\"\n",
    "\n",
    "    **Feedback:**\n",
    "    - Clear focus on affordability and enjoyment.\n",
    "    - \"Plug into fun\" connects emotionally and highlights electric nature.\n",
    "    - Consider specifying \"SUV\" for clarity in some uses.\n",
    "    - Strong, upbeat tone suitable for marketing.']\n",
    "    \"\"\"\n",
    "\n",
    "\n"
   ]
  },
  {
   "cell_type": "markdown",
   "metadata": {},
   "source": [
    "### Step 3: Try it yourself\n",
    "Use the helper below. In notebooks it awaits `main()` on the active loop; in scripts it falls back to `asyncio.run(main())`.\n"
   ]
  },
  {
   "cell_type": "code",
   "execution_count": null,
   "metadata": {},
   "outputs": [],
   "source": [
    "import asyncio\n",
    "\n",
    "# Helper for notebooks vs. scripts\n",
    "loop = asyncio.get_event_loop()\n",
    "if loop.is_running():\n",
    "    # Jupyter/VS Code notebooks already have an event loop, so await directly.\n",
    "    await main()\n",
    "else:\n",
    "    asyncio.run(main())\n"
   ]
  }
 ],
 "metadata": {
  "kernelspec": {
   "display_name": "Python 3",
   "language": "python",
   "name": "python3"
  },
  "language_info": {
   "name": "python"
  }
 },
 "nbformat": 4,
 "nbformat_minor": 5
}
