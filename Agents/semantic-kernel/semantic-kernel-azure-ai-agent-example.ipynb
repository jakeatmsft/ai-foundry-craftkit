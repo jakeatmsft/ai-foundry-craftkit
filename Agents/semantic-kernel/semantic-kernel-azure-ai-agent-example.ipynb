{
 "cells": [
  {
   "cell_type": "markdown",
   "metadata": {},
   "source": [
    "# Semantic Kernel Azure AI Agent Tool Use Example\n",
    "\n",
    "This notebook shows how to build a Semantic Kernel-based tool that integrates with Azure AI Search for Retrieval-Augmented Generation (RAG) using the Azure AI Agent service. The agent retrieves travel documents from an Azure AI Search index, augments user queries with semantic search results, and streams detailed travel recommendations."
   ]
  },
  {
   "cell_type": "markdown",
   "metadata": {},
   "source": [
    "## Initializing the Environment"
   ]
  },
  {
   "cell_type": "markdown",
   "metadata": {},
   "source": [
    "### Importing Packages\n",
    "The following code imports the necessary packages:"
   ]
  },
  {
   "cell_type": "code",
   "execution_count": null,
   "metadata": {},
   "outputs": [],
   "source": [
    "import json\n",
    "import os\n",
    "\n",
    "from dotenv import load_dotenv\n",
    "\n",
    "from azure.identity import AzureCliCredential as AzureCliCredentialSync\n",
    "from azure.identity.aio import AzureCliCredential\n",
    "from azure.search.documents import SearchClient\n",
    "from azure.search.documents.indexes import SearchIndexClient\n",
    "from azure.search.documents.indexes.models import (\n",
    "    SearchFieldDataType,\n",
    "    SearchIndex,\n",
    "    SearchableField,\n",
    "    SimpleField,\n",
    ")\n",
    "\n",
    "from semantic_kernel.agents import AzureAIAgent, AzureAIAgentSettings, ChatHistoryAgentThread\n",
    "from semantic_kernel.contents import FunctionCallContent, FunctionResultContent, StreamingTextContent\n",
    "from semantic_kernel.functions import kernel_function"
   ]
  },
  {
   "cell_type": "markdown",
   "metadata": {},
   "source": [
    "### Defining the Prompt Plugin\n",
    "\n",
    "The `SearchPlugin` is a native Semantic Kernel plugin that augments user prompts with retrieval context from Azure AI Search."
   ]
  },
  {
   "cell_type": "code",
   "execution_count": 3,
   "metadata": {},
   "outputs": [],
   "source": [
    "class SearchPlugin:\n",
    "    def __init__(self, search_client: SearchClient):\n",
    "        self.search_client = search_client\n",
    "\n",
    "    @kernel_function(\n",
    "        name=\"build_augmented_prompt\",\n",
    "        description=\"Build an augmented prompt using retrieval context or function results.\",\n",
    "    )\n",
    "    def build_augmented_prompt(self, query: str, retrieval_context: str) -> str:\n",
    "        return (\n",
    "            f\"Retrieved Context:\\n{retrieval_context}\\n\\n\"\n",
    "            f\"User Query: {query}\\n\\n\"\n",
    "            \"First review the retrieved context, if this does not answer the query, try calling an available plugin functions that might give you an answer. If no context is available, say so.\"\n",
    "        )\n",
    "\n",
    "    @kernel_function(\n",
    "        name=\"retrieve_documents\",\n",
    "        description=\"Retrieve documents from the Azure Search service.\",\n",
    "    )\n",
    "    def get_retrieval_context(self, query: str) -> str:\n",
    "        results = self.search_client.search(query)\n",
    "        context_strings = []\n",
    "        for result in results:\n",
    "            context_strings.append(f\"Document: {result['content']}\")\n",
    "        return \"\\n\\n\".join(context_strings) if context_strings else \"No results found\""
   ]
  },
  {
   "cell_type": "markdown",
   "metadata": {},
   "source": [
    "## Vector Database Initialization\n",
    "\n",
    "Azure AI Search is initialized with persistent storage and enhanced sample documents."
   ]
  },
  {
   "cell_type": "code",
   "execution_count": 4,
   "metadata": {},
   "outputs": [
    {
     "name": "stdout",
     "output_type": "stream",
     "text": [
      "Index 'travel-documents' already exists, using the existing index.\n"
     ]
    },
    {
     "data": {
      "text/plain": [
       "[<azure.search.documents._generated.models._models_py3.IndexingResult at 0x20c0fd19b50>,\n",
       " <azure.search.documents._generated.models._models_py3.IndexingResult at 0x20c0fd19bb0>,\n",
       " <azure.search.documents._generated.models._models_py3.IndexingResult at 0x20c0fd19b80>,\n",
       " <azure.search.documents._generated.models._models_py3.IndexingResult at 0x20c0fd19be0>,\n",
       " <azure.search.documents._generated.models._models_py3.IndexingResult at 0x20c0fd19c10>]"
      ]
     },
     "execution_count": 4,
     "metadata": {},
     "output_type": "execute_result"
    }
   ],
   "source": [
    "load_dotenv()\n",
    "\n",
    "search_service_endpoint = os.getenv(\"AZURE_SEARCH_ENDPOINT\")\n",
    "index_name = \"travel-documents\"\n",
    "\n",
    "if not search_service_endpoint:\n",
    "    raise ValueError(\"Azure Search endpoint must be set in the environment.\")\n",
    "\n",
    "token_credential = AzureCliCredentialSync()\n",
    "\n",
    "search_client = SearchClient(\n",
    "    endpoint=search_service_endpoint,\n",
    "    index_name=index_name,\n",
    "    credential=token_credential,\n",
    ")\n",
    "\n",
    "index_client = SearchIndexClient(\n",
    "    endpoint=search_service_endpoint,\n",
    "    credential=token_credential,\n",
    ")\n",
    "\n",
    "fields = [\n",
    "    SimpleField(name=\"id\", type=SearchFieldDataType.String, key=True),\n",
    "    SearchableField(name=\"content\", type=SearchFieldDataType.String),\n",
    "]\n",
    "\n",
    "index = SearchIndex(name=index_name, fields=fields)\n",
    "\n",
    "try:\n",
    "    index_client.get_index(index_name)\n",
    "    print(f\"Index '{index_name}' already exists, using the existing index.\")\n",
    "except Exception:\n",
    "    print(f\"Creating new index '{index_name}'...\")\n",
    "    index_client.create_index(index)\n",
    "\n",
    "documents = [\n",
    "    {\"id\": \"1\", \"content\": \"Contoso Travel offers luxury vacation packages to exotic destinations worldwide.\"},\n",
    "    {\"id\": \"2\", \"content\": \"Our premium travel services include personalized itinerary planning and 24/7 concierge support.\"},\n",
    "    {\"id\": \"3\", \"content\": \"Contoso's travel insurance covers medical emergencies, trip cancellations, and lost baggage.\"},\n",
    "    {\"id\": \"4\", \"content\": \"Popular destinations include the Maldives, Swiss Alps, and African safaris, with average temperatures of 82°F (28°C), 45°F (7°C), and 75°F (24°C) respectively.\"},\n",
    "    {\"id\": \"5\", \"content\": \"Contoso Travel provides exclusive access to boutique hotels and private guided tours.\"},\n",
    "]\n",
    "\n",
    "search_client.upload_documents(documents)"
   ]
  },
  {
   "cell_type": "code",
   "execution_count": null,
   "metadata": {},
   "outputs": [
    {
     "name": "stdout",
     "output_type": "stream",
     "text": [
      "# User: Can you explain Contoso's travel insurance coverage?\n",
      "# TravelAgentHost: Contoso's travel insurance coverage includes:\n",
      "\n",
      "- Medical emergencies\n",
      "- Trip cancellations\n",
      "- Lost baggage\n",
      "\n",
      "These areas are covered to help protect travelers during unforeseen events on their trips. If you need specific benefit details or coverage limits, let me know!\n",
      "# User: What is the average temperature of the Maldives?\n"
     ]
    }
   ],
   "source": [
    "async def main():\n",
    "    thread: ChatHistoryAgentThread | None = None\n",
    "\n",
    "    user_inputs = [\n",
    "        \"Can you explain Contoso's travel insurance coverage?\",\n",
    "        \"What is the average temperature of the Maldives?\",\n",
    "        \"What is a good cold destination offered by Contoso and what is its average temperature?\",\n",
    "    ]\n",
    "\n",
    "    search_plugin = SearchPlugin(search_client=search_client)\n",
    "\n",
    "    async with (\n",
    "        AzureCliCredential() as credential,\n",
    "        AzureAIAgent.create_client(credential=credential, endpoint=os.getenv(\"AZURE_AI_PROJECT_ENDPOINT\")) as client,\n",
    "    ):\n",
    "        settings = AzureAIAgentSettings(\n",
    "            model_deployment_name=os.getenv(\"AZURE_AI_MODEL_DEPLOYMENT_NAME\", \"gpt-4.1\"),\n",
    "            endpoint=os.getenv(\"AZURE_OPENAI_ENDPOINT\"),\n",
    "            api_version=\"2024-06-01-preview\",\n",
    "        )\n",
    "\n",
    "        agent_definition = await client.agents.create_agent(\n",
    "            model=settings.model_deployment_name,\n",
    "            name=\"TravelAgentHost\",\n",
    "            instructions=\"Answer travel queries using the provided tools and context. If context is provided, do not say 'I have no context for that.'\",\n",
    "        )\n",
    "\n",
    "        agent = AzureAIAgent(\n",
    "            client=client,\n",
    "            definition=agent_definition,\n",
    "            plugins=[search_plugin],\n",
    "        )\n",
    "\n",
    "        try:\n",
    "            for user_input in user_inputs:\n",
    "                print(f\"# User: {user_input}\")\n",
    "                # 4. Invoke the agent with the specified message for response\n",
    "                response = await agent.get_response(messages=user_input, thread=thread)\n",
    "                print(f\"# {response.name}: {response}\")\n",
    "                thread = response.thread\n",
    "        finally:\n",
    "            if thread:\n",
    "                await thread.delete()\n",
    "            await client.agents.delete_agent(agent.id)\n",
    "\n",
    "await main()"
   ]
  },
  {
   "cell_type": "markdown",
   "metadata": {},
   "source": [
    "### Creating and Running the Azure AI Agent\n",
    "\n",
    "An Azure AI agent is provisioned dynamically, connected to the Semantic Kernel search plugin, and invoked with sample travel questions."
   ]
  },
  {
   "cell_type": "markdown",
   "metadata": {},
   "source": [
    "You should see output similar to the following:\n",
    "\n",
    "```text\n",
    "User:\n",
    "Can you explain Contoso's travel insurance coverage?\n",
    "\n",
    "Function Calls (click to expand)\n",
    "\n",
    "Calling function: retrieve_documents({\"query\": \"Contoso travel insurance coverage\"})\n",
    "\n",
    "Function Result:\n",
    "\n",
    "Document: Contoso's travel insurance covers medical emergencies, trip cancellations, and lost baggage.\n",
    "\n",
    "Document: Contoso Travel offers luxury vacation packages to exotic destinations worldwide.\n",
    "\n",
    "Document: Contoso Travel provides exclusive access to boutique hotels and private guided tours.\n",
    "\n",
    "Document: Our premium travel services include personalized itinerary planning and 24/7 concierge support.\n",
    "\n",
    "TravelAgent:\n",
    "\n",
    "Contoso's travel insurance coverage includes the following:\n",
    "\n",
    "1. **Medical Emergencies**: Coverage for unforeseen medical issues that may arise while traveling.\n",
    "2. **Trip Cancellations**: Protection in case you need to cancel your trip for covered reasons.\n",
    "3. **Lost Baggage**: Compensation for baggage that is lost during your trip.\n",
    "\n",
    "If you need more specific details about the policy, it would be best to contact Contoso directly or refer to their official documentation.\n",
    "```"
   ]
  }
 ],
 "metadata": {
  "kernelspec": {
   "display_name": "oai",
   "language": "python",
   "name": "python3"
  },
  "language_info": {
   "codemirror_mode": {
    "name": "ipython",
    "version": 3
   },
   "file_extension": ".py",
   "mimetype": "text/x-python",
   "name": "python",
   "nbconvert_exporter": "python",
   "pygments_lexer": "ipython3",
   "version": "3.12.9"
  }
 },
 "nbformat": 4,
 "nbformat_minor": 2
}
